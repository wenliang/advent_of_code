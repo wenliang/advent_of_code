{
 "cells": [
  {
   "cell_type": "code",
   "execution_count": 6,
   "id": "6647acd4",
   "metadata": {},
   "outputs": [
    {
     "name": "stdout",
     "output_type": "stream",
     "text": [
      "[('tdltdtmhl', 'RNCBcwmHr'), ('WDzDPnvvGnsWLWpGJJ', 'HRzCCRZNBRrRwMNwHH'), ('DsDsQnJDnWsJnJvrQDPJ', 'ddgShFQhjljqhggbdbbt'), ('LqvbLLTdvlfdqTLtbv', 'DSRHPhHmRSnndHnHRM'), ('jswsGgzwsNgNWNwGJzVrg', 'SHnhHHDmShmmGShnMDPRn'), ('JMNWzVwMpj', 'pLpTfTLLTf'), ('HnQBjMjPQmRMmJCmBP', 'GSFTSVWcNNGQQGGGTV'), ('dgstqdtsbwrzddvrvdwqzhr', 'WSFllDSWGDWFGDNsDDWSTHT'), ('gpqZwwzHZhwz', 'MJBmfZnnJLCL'), ('PJHbTPCmLdTtL', 'tRtBvzBrWffft'), ('hnpTqhMncpFDppDqq', 'NVFVvWzvNWNvfBfzs'), ('GwZccTpgnDSDD', 'ZQdCZbbClbCmm'), ('bnZnRZZZRlpGBbfRJjBb', 'MfhCHwfsHShschMsHCww'), ('LqVtqVmtLQvVqqLTFFv', 'LDMhDMpMhwMSLDhsDCH'), ('mFQWtNggVQQgmdg', 'pJGpnnZJjbWGBRZ'), ('GsdGrGqvLZqWvWWdrPLdfvsv', 'SJDDcQQhcTbFbTcCJLSJShcJ'), ('wmBlnjwjgH', 'SSDQjfDDfF'), ('wggpmwmwNnMlHRpttRHml', 'PfWzdGvvvzrZWVvMrPvvZ'), ('jvlvTvTvTvcqTdZrd', 'nGlVfNgspslpfGGnM'), ('BWQhQzQwmhwWHbWCSR', 'MRgjpjVDDRgDgVffgV'), ('zLHQSBWmL', 'cjdPjLLLZ'), ('BjjLnRzBnRmTSTBhpBmCjn', 'LqNPGGVNZgNgLGddZVNVdf'), ('wDDJJQJlJtHrlwFF', 'PNGGfZbbbglgfPSf'), ('tFQssvcDJtJcFcvwHt', 'BmnSCvRmzzhpSCWvmC'), ('GvPVvVHPgzPMcFv', 'DHssdpCpsnpHnsj'), ('gmhmSRZBJTTTmSBZhhrqSBLR', 'CnsBjjnbjBdbdbbdnbjwwBsj'), ('WlrgrRgJSgZSJJJTZR', 'tvVzvGtfzcVFcMzlGM'), ('QSZwwsBZZwjsn', 'dFsMPHLzTLLLz'), ('tpJfgHghmvqpNW', 'rrTMrMMRzPrMPJ'), ('ghgghmlvmgNWgmW', 'wBQcbGGSclGHjjb'), ('lhlnWGGFWZhDfgFfWDfrhgr', 'RwcccqcZQBQMwcqJMTMRMqJ'), ('jVdpSLPVSjtNdjdPtptzLNPP', 'zcBzwCQrCcTBTRqwwqMCJTcC'), ('PNHdpPLHtHtjdL', 'ghnHWvrvnFlFnf'), ('qttvqPdCtLrqR', 'gfpgpMgSfSWvM'), ('TJccnTDjjDlD', 'hSpfHdhpTpZf'), ('wldwmJdwmss', 'tCsLzBsBCGP'), ('ddpCGpGpnndnpWqdVVpDGfDG', 'FzSsFSZzBJShJsVtTstssrsr'), ('jbvPLwFj', 'ztJBtvJz'), ('wjggcgPFLlLwPFNwHmNP', 'QqDRQfCRGCGqnpcRqQnn'), ('PmmGhLLc', 'gZbPQnqH'), ('DlVsvvrvvvrsDJLRDvvC', 'HbpBqpnbQnggbWZbggVW'), ('vJRTSSRJClCCDwTJRfSfCs', 'GzMLmGmzmjGcfmdFNNNtfh'), ('vcmmMvfctfjLjvvRbLd', 'HSnQSgQFnghSgQQSSjT'), ('WzVbszVN', 'HnTsQFgZ'), ('pVlGlzrbDNrDrPpJNNJpV', 'dBDvLdqvvvqqdBqcfvLdq'), ('gfzgzPDVZQDDS', 'qBdtFfdFdvqBB'), ('MrwmTcJJsMwNmJ', 'dvFqdFGGtvvsGt'), ('HMmTTwcJqcrTHrjjc', 'zhZQgzghgQHhnhhHh'), ('BffBVgjPwPPPJwBBVJfDDsgr', 'dZdcZqlcSnSncRNzHzZljNqq'), ('CmWFbCmFvMtLLQCTbbbLt', 'RqdSZHcdnqqNqNTRlnqNH'), ('MpthtSMvFbvW', 'PVDrsDgpPggD'), ('VVRntNwml', 'vhGccPNfS'), ('QZcgZppdrZQTzrBgCbrbdQrB', 'vjLssPjSssMsfSLhTPPGvLTP'), ('ZZcpJZHpgCgpppdrJ', 'RtVJFqVFVDRWJmtVq'), ('dpdhtpjHtnpFRHdjRnws', 'pMQmqpqqmVqmTVJQMmff'), ('gSCcBCBCcgwDBLSvcL', 'QQVTMmfmMJDqfTrrVV'), ('gSwPzLBbNC', 'bFnHHjhthh'), ('dLNrRmqLqRgCNNrCJrSqqSQg', 'jDWnGpGjDjspnlslGHnnjsQj'), ('vVTzZFVttVBMFbFfffVVmVt', 'HWpDspjHWWWbGjjjDsjWllW'), ('hwFFwztTzvZmBzVf', 'qhSSNPRPPCRPRJCr'), ('BjfcmzCCTtNBNjcT', 'DWwzPzDMMQPDPMws'), ('lGpJFHnlSlnZbGn', 'QQSBLwSPPLMsDQh'), ('JFHHpbnZbGbZg', 'vTmqfNgqCcvjB'), ('ShhpqjhhVZmHhSJSS', 'nLzdNRNTjLwNTNTzv'), ('QffRWRrMG', 'wLfgNcNgc'), ('GQrQDPRBlGlsGrWtrtPDPbW', 'pqhZqSqJJpHZSVhVhhmmBZF'), ('ZlVVDTtT', 'rzFDrFfB'), ('NNGbJNNNNmpWBNbNW', 'mjMfdjmFfPdqFMrMj'), ('NQvRNvSRHSQBgRGQJJQQH', 'TtcVLlVcTwVTllnRsttZs'), ('fjsDhJsVDcVJVljFDqLqFl', 'nnCFbzbCCCZCzCtCZrnCCM'), ('HwQNrHWNPGPH', 'MZCvMCbzzvHZ'), ('dBWwWPPGrGwB', 'lcjDlcjcjldL'), ('NCLMHJZqCHHHMFlN', 'BZtTZRvtStZdcRbc'), ('wDrnpbswVgsrsWmGpDpfp', 'BQtRSTmdvBjTjtBScctRm'), ('gwzgbGDgpg', 'FJMzlzPJCC'), ('SpnfPVqFnGfPGggqfG', 'bjZZrtWrlRlbHpZjRZ'), ('mmJmdJBsBJsDwhJBQh', 'TZtzdRltrrRlrtHjjl'), ('NBscQhmsmmQLLwLmhhwm', 'cSSGfnfSFCSMCPfHCMqG'), ('hvVnPwZwVzQrhrVhPPPrpQV', 'DBgMMlSTLZsgdDTSTdsssLd'), ('RvFCqCGfbFCRbRm', 'SBMMsLBgdFDSgdL'), ('cRGjRWbWj', 'vtPvrQcnr'), ('LzLNzhpcRRcTmNDzRhTPD', 'jMvMnVlMgjngSMrMzrQQr'), ('tfbWfWcWddFcGFwfswFFFC', 'rjjvlVbrQjSglSQMjgvlgl'), ('FHWGCHCCGcwfswqHdHqww', 'mPqRJDpZZNRJPRPPTTJNR'), ('gLHLLhTjZ', 'VMwMRSZZS'), ('GdqdtlPv', 'nQPPnsRw'), ('tNNGvdtbdm', 'JmHRTRJrFr'), ('QjjdjGDvdjwp', 'ZsssvsPZFZll'), ('mTWWMWzb', 'PHmZwHHw'), ('JwTbtBztM', 'VLDSpjVtc'), ('SZSBWtBS', 'wnTDFSDD'), ('CsrJWmmPrPQmpzsPmssss', 'vnTFhvTnPhnFDFfDFnwqF'), ('CCCCzprgrJJCgmVcpJmWLQ', 'ZddHlGbMbdZMbtZNNcHHBt'), ('fgqqrZLqZqFzFFWzZzgPP', 'bnMNNNvQnpQnQbNbpcHNP'), ('SdwdmwCClCCwldhRSms', 'vpbncjQbNNQMtjQnMvS'), ('mDlwhMRlCwDCTVwVJRd', 'GgfzLLzzGzGFWqGqfGD'), ('CnVvCqvnRqHVq', 'nWcMFnLmLnMMm'), ('ZrdzbzbrdwtQdSfd', 'cmmFMBWFNFWLwNNp'), ('QFrQtJDdSZdD', 'VHlVCPssJRll'), ('qMpGGmVNHMGV', 'jRJJGfRgQtjQ'), ('flsTZCwDwWcZZPCrPZZW', 'gLLjdJJQSJTQFSgQJJRt'), ('ZcChshwZCDvlCZCsP', 'HMHzqNzBmMfmBBMfh'), ('wCtZtzCn', 'PldZSdZp'), ('VMspbMHspbshb', 'PBLFsdcsLBdLs'), ('pRrQHpNbQbr', 'qRqJfnwfwzR'), ('DPPcDlPwNdNRJsccp', 'gvwBBvqGGQtqrCjwr'), ('fMSVrMWmLZ', 'qHQgLggCHH'), ('mZZWVTbTWWfnMWrbmznfZf', 'sPNcdsdpRcNJplbJNcNRNl'), ('ztlNSLhplh', 'BHwwBBMBtv'), ('DnVVfcGbVnGRZG', 'gvPMpHBpCmJMDP'), ('GnZdZZnbdpVcQjQQFjj', 'qrlNWlrsNrFNLLsWqSF'), ('bJQgDRfjDbJbRMTg', 'SSPzPHCNhzQHHszz'), ('wmnwFmDcwFGvpvwGn', 'SWPNPWzPHhhcWSCNz'), ('GpDtmvrdGvvBmZr', 'LTjZRTqTjblbMfL'), ('gBhZmtHhhhwTJ', 'qwDFqGGqPWqDb'), ('rRLRVTrjCrCVd', 'FjMbvGPPGDPvW'), ('LSsVdrRNRCCffCS', 'llQNBTNgNlmhHBJ'), ('lCzCCDMDlzzlZtttWDnDC', 'ZPbVGLhSmSLGbSgGPgVZm'), ('sBcNsqTQwRQRrB', 'gbgSbPTLVSnLmV'), ('wcqrjQsBB', 'jdCzjdnCv'), ('ZgHVtMQVVgvQjjt', 'zdzfdFHppfmzwpz'), ('CsBrBLLJSrs', 'RCvnGvfRdvF'), ('DbBJTJDLrJDqqqrrhJsJq', 'VWthWlZZlZjMPZltvtMjZ'), ('bsHlrwlnwwQJsqmJnqs', 'PSLzTLpPGPSgPPPWmLT'), ('fdvBtpMDfpCCfBcCcCBtDfF', 'SgTMTGSTRPLgPWGzGgVgLVz'), ('NDcjcDZjBCdvvjdv', 'hlbJnprjnnbhwrqn'), ('zRpLMMqjgMggqLDqDRV', 'GNGdhGtvGGnvGnrznGB'), ('VScbcZPJZWZlZbbHSJQ', 'JGtrGvtmdBBGmdGBrdn'), ('cbPsZcPCcWfCZPcPQsll', 'jpDqwfqVgRLMTRjwVqLM'), ('QtRWhjtsbttQtnbbQvsrR', 'BfDNdMGBLZLVVNVGNLGWd'), ('JwllwllJmCwzPFSJzww', 'TBZLDLdBBBPLZZBVTTL'), ('ZwFSSmpwzScFSmggH', 'QjbQvjvscQbrtnjbs'), ('WMLWnSHSMnH', 'jPVMVMVVJGM'), ('zQzRcmttdftrtrdZZRzDtPZ', 'ppphsVbjGbQbJTTsCbsjppG'), ('dmrDtqfzrmZtqDvdfmZmtdqz', 'LNlgnwgWLNvwFWgWWPNFSFNN'), ('hvSrMwqljjBHvqhHsHshq', 'nrZcCCpfCZZCCZZCcCfCZ'), ('QDVTRFWlmD', 'npLnnPTPCZ'), ('DVQVtmQRWRRGFVRWV', 'vlwdShBvvSqvtjMdd'), ('pnMQbbnDQMNMDQsnTplNTD', 'vqPGHZGcvqmCqvmqZqmlqP'), ('dwJdBBwdJJwLJBLSRJc', 'zWmHPzqWzzHGmvPRHGG'), ('LrdFgSSLB', 'sDMFFcbQb'), ('NSnwvSPPVNnPTLVpRvVvRn', 'qhhQQzHhLbzlqcqHzmHHqh'), ('DFMMfBffgZJtFsJgwdD', 'HGHHzzmqhhHQzDQGhcH'), ('dMrZMMgFfFtZJZfBWMf', 'VPNwPpNwPVSNVjjVWpN'), ('dNlLSvLSdNlhphlhlWf', 'VFFbZHqjjHHvqFZQHCQ'), ('BcrTcJfRMRmr', 'cbqcQgcHVCVF'), ('fBzTJJRmfPPm', 'nppdNwhllwlz'), ('GqfSSmPSFwSCmFBwfQfQBfG', 'nggLrhTrJBDDnrddsJDdLTL'), ('cHHvVtptbzb', 'rTQJTggnTQv'), ('QRVbbQWbpZbVQV', 'GfRmwfFwmjflPP'), ('zzBQJmzQPPlddpJWlzzfdpfj', 'vLvgmvFggMFGDVvLGHVFvvtM'), ('CCSTrCncrhcCcwhRnCqC', 'ttFDvMFvtWtVHvFhvLVv'), ('wCTNCSRnbn', 'pWzlBpJspN'), ('PTzTPlrrfrbzmftTTrrjP', 'MsNNFZQgQHVgMtNVFMgFF'), ('DpGBcpvdZhccdGJhqDBphZhd', 'VRQVQQVsqFwMRwFgFNHMHwQQ'), ('SGcLGpdGnBhDJppSD', 'ZlPTTmLrmbTLTmrZL'), ('PzmhTqSzdDGcDhzdJDPBmJ', 'nrdVppNVVtgttMVrNnMMnV'), ('blbQbWLvlWffCjlGCW', 'wsnLpnpMggnpspnsrg'), ('fQRbCZRfFZvZRQHRvHj', 'mGmTFPcBmDhBGTzmGqS'), ('JJVJfgJfVDdfDDcpTBgd', 'wQMQZQRZQZwmlmWwQGcm'), ('ttzzjjzSqPzqtqzFrPvz', 'wNwMlMRNnnwnllSmmmQG'), ('FCvvChhs', 'RVhhJBdB'), ('rbQZdRzBFTBzZZcc', 'lntHnlfJlrNgngfS'), ('PPqGjpPGqpmDmDwqPDV', 'nlNpnJfnnnglJCHlNfC'), ('MMhhjMwwPv', 'ZNZTvLTZdL'), ('ZZGgVgwfQNVNLfZ', 'sPqRsVTDspTpsqs'), ('jdjdSbmMdMBSvMgB', 'cWpsRpTWDHWTvRPs'), ('httmBMhbBBjCdzSh', 'fGzJlnQLlgGGZwww'), ('gLSLMCbVSGR', 'PdTwtjtVfdt'), ('TpzJpFFqmzpscslB', 'tddjlwjjDhhldhvP'), ('WpsTmJpHssq', 'nHMGLnGSgbH'), ('RRBCpJJplCchWJJHCHC', 'vjdpMzFzrNvVgFrrMzz'), ('btLLPGSQctnZnPwwS', 'jgZjjjNNrvMvVrrjV'), ('tmLPGmnbnsLLwqQPSwqGbw', 'DfHlHWBWlCsffshDCBfWcJ'), ('GhDFZFGZzz', 'bCdZbZVlfv'), ('bPNWSbSJSWSJPBBLLq', 'ClCltlwlNmllwvCQfC'), ('PgPLqgqpWcWJJcnqJcccc', 'GrjbHhDRGMDGTDbpRhbFF'), ('VJRffrVJvDzcRcFF', 'bpSlQLHlvtlstbbt'), ('NmNqPhPqPZ', 'hsQLQwSRpH'), ('dWRnRdBmMBWg', 'jCgVGjFcCDzf'), ('nhhQFDmVmDGhmF', 'pgCgBpcpHqncCt'), ('fLLZbljhjj', 'scCggBCLCL'), ('PhMRhNWddWNjfRdPRfWNf', 'VmvQFVQzVMJJDJGrmQGrQ'), ('PNQtsHvZtsQgQLPsPtHZ', 'bfzRffRzMMqRqpzbfqng'), ('jDwCmhrDlhBhBldr', 'zJMmfFFbSfFnqpFb'), ('jdljDrDrTBBnG', 'VNcGcQLQLQPQL'), ('MjzrjZvW', 'QRHtjQdS'), ('JFJlDJbcbv', 'tRQmQbQQdf'), ('JqNDBVNpqCBqDBCBVDcNVBqN', 'MWgGZTPZgCrPzzvghPwrwZgG'), ('gzggttLNDFztFCNWzrLttmF', 'ddSjsdJsgZVSsJjwjgbgZVG'), ('pPPcqpnqHMpcRbhhMMpThvn', 'wZSjZvdwZvwdZSBvGZSGVZZ'), ('ThcPlHbbPHRnlRTHnMhpfl', 'trNLWzCWWCztzffQLLDmDN'), ('SlNJRpCGTmd', 'FFDcbqJZFFJ'), ('wwnWPHgsLPlVVfssL', 'cZcjjzrDqcFzcgchZ'), ('WVvQHQPfLw', 'SGSvCRlNSd'), ('wWnWcpWDcwH', 'cRdJQTdmNsT'), ('hprqBSvZ', 'NjFdFjsq'), ('fSfpvhLBf', 'ltMCLzWzC'), ('fdPfPwPmdmLZ', 'fNWjWszQNjjN'), ('MBRSBBRBChMR', 'QWhlmVWNsmzm'), ('FvRcSrcRrtvrRrvrrrmc', 'wGwLnTHHqGtwZwHdGPHP'), ('tFPlJcDJdvLZvFlcvl', 'HtQRthbgQjrhsgQgNr'), ('qCnpGMnTTVwCCMnqwWfpC', 'hQHRbrgQjsQmmfrrHgHrH'), ('GMnTSBnVTnBG', 'bLlDDvFBLDbF'), ('rJhPGdLSWnnrdqLhPPWG', 'jcZZffjcgNdgNgRcNfwf'), ('mHsDTQlsQBvWspTHzpmCTp', 'cZgwZjZfZNRFwRjRRNMHjZ'), ('vCzDDQsDDvbllWTllCDCCT', 'SLbqSPVqSnJLGSqrPLtVnP'), ('sSRdHHHSRhjShVHWVFJd', 'QPNFpGCrQCCfflqlPvfN'), ('gLztmctMwnBtTzM', 'ppBCCrGfQlQQqBN'), ('bbbncfzLmmmnnZLg', 'HZWjhsjVJjHRVSdR'), ('bRgwCHfgfCCttRbdRLH', 'zzGDnDnLBhmBGzvmFZD'), ('rssprQlqlTQGNPcJGVsT', 'BDmWzBnPnhWBvZZDBvDm'), ('MQQTJTNGNcqrN', 'wMwwHRdRbdgbj'), ('sBnnsDLDBCsLTngnZLc', 'dmppCdmpRJwJJQdMRMP'), ('NlrTblbNNb', 'wRPpjjbPdJ'), ('GlztrhvfGqltqzWr', 'cZgFZVSWWSTSncnL'), ('FLJqLFRjzFqzJddlLf', 'NNCjPrGSHCPHNVNVSH'), ('TWTpngss', 'gcPgNGPc'), ('pGMDZpnZBMDsTTTnTsQWWZT', 'RlbvdfZlLflZzJfdqvdRbqf'), ('ClsJpCgsp', 'pMbFFFbHp'), ('PvQRPqQPvRdwLNZLZqqwGPPP', 'NTbjMcFcfHjHcMNfBNHrcDDM'), ('GLRnzqzdRqwdZnLLPqqZdQG', 'sVtsnlWCVVWsgtWSSVVhFWt'), ('LNLSJjQDLl', 'zRGwTTzQfT'), ('WbZqchqMZqZWbmdZbh', 'TrvPmGvwfHRHGTHRwH'), ('dcfChsWWZgbfWdhCb', 'gDNFBBDjFNBjjVNpD'), ('HjCLsHJHCjnNVHdCnHtJdt', 'QQgQDhFGFDLcwFDBFMMDBT'), ('vWrSWSbSrRqmzlWl', 'QgRQQTcRMgMTMFwT'), ('bzrpWWzbqr', 'pnZsJwZVpC'), ('FhlfrNdTrtFdtrrrf', 'cZBMdpZcHHHZMcccv'), ('PmbjVDjwQbbjjV', 'pDDvpzBZSSMsvG'), ('jmbVjPVWqVmgJgjmmPPQjmq', 'lCMlftnftnNlTTLLfNfrJtN'), ('PwMWzqwWbFwznq', 'NQQhffQjJfnhfJ'), ('mmdpgmttDrpgpdmZdHmg', 'NsQVZvJNMQvVJffsZVQf'), ('pdcBrMgDgcgrrH', 'PcFSFzzqzFFbPS'), ('QRJJtSfJtQtjQRnSn', 'NssTNdgsgdwddRWcm'), ('qHMDhPBqbqZVzb', 'ddTcVwSmNWNVcc'), ('BFCZbqPbHBPMh', 'CljvQSvGCCpnj'), ('HSzHNHlNHmBSHSBFrFFgBH', 'VVqbQLTTcLtqDsDTBTDcDp'), ('CWQZGCWfMZG', 'qbTbtpLsbWp'), ('GwjhPCRZPQPPCPw', 'mzSNzzzmwzlzSgH'), ('GgTvJbpJG', 'vPVHZZZLW'), ('cwWdnwmWnfw', 'ZDBHHNzZBVf'), ('nhjjmshdwmSjsnmw', 'rrQrtbtbgTTgrWth'), ('lFBTtcnlcFlppVpttcFZVhTT', 'DDLCHDSDCjDCMSLZDWdDDSjD'), ('mrfsgMfRRwwPffJfb', 'dDdgWGLGLSDjSSWdC'), ('MmfNPwPzM', 'zlhlFlplV'), ('pRVgVsRzdDVJJJR', 'ttZTnnLrGsrGssG'), ('BjMvMBWmjWNWSW', 'rLGZPTHLSLTrZr'), ('LLMWQjfvmljLB', 'RVJfbChfVgJRz'), ('RPDsdnVrVnV', 'zScStjpFSjV'), ('BTLBhMMB', 'pSMsMjZz'), ('hwbBgTsbBbG', 'rGHvGrvDnPH'), ('nzwgtSFR', 'qhDphDwB'), ('CmWCrrmrVPGC', 'DTbpvvvhsZDG'), ('VdNrlWHpmQ', 'zSMgJFdRFz'), ('jrhZtczchvvF', 'CTmCDlDMrMDT'), ('bHbLnbbwLnWQpLQgQVpQ', 'CTDqdmwqmDqCdDCSlmdd'), ('sgVgglblp', 'tsfFthtvR'), ('LctzWvrzTWsvWBfvBz', 'dJQSdQhQQfpDJJmmDD'), ('lMRwjlwlLnZwLHLgg', 'QDRGphdFDJQdSdJJQ'), ('CjPZCVCjgPwg', 'WqWLqzzcWsVq'), ('JNWHsPNsJNHBnfnnqfqs', 'wcctDTmPCRmmTRtgCdmD'), ('rjGrLrbhGRZVGQhphbb', 'mDgDZMDMwdwDcCMgcDM'), ('zvbLvVpFvjzVhbQjGj', 'HlnflJFlWRqBWWBJBS'), ('NfCMfGNdGqVDhW', 'BvncLllhBgcmgL'), ('bJbRbHHtRtJtZTpSRt', 'sLDLzvcvBmgnnnJlsm'), ('SbbbTRpbQHSbbwHZZTH', 'qfCNMfqFWGNGVQMFGDC'), ('MdzwdMpVwV', 'NMHQMJNcHM'), ('mDtcPDqWnDq', 'gnGJvLHTJHJ'), ('mmjhhRBRB', 'cdZrcdRCz'), ('lvldsNpNGCGgCvCGggD', 'LMbMmrdwnjjZdLLwrjM'), ('HWHtPHSHPB', 'nrmZjBbwwC'), ('tHqWRtftt', 'NlDClvNqs'), ('BTRNQTQTTBFRT', 'glDwzztDgCwLF'), ('jZsMjqgdrr', 'zzSbsDSwsw'), ('jWZrMgMjGdvrWWvrWMfMfZ', 'TBHTHQBHBQNpQRfRHNpnRT'), ('GRgFCPhnBBhPwZPnw', 'dbWMJMlcJTLLlTlRT'), ('VQsvVvvVNzqss', 'cTVSLbWTStTJW'), ('spfDNpvs', 'nPCfhBbh'), ('GhWSgWphp', 'rhQqqndQd'), ('MvZRjjLcCzwc', 'LnHfdTdgfFHQ'), ('wCczcCgRMwRRNCtjMCtCv', 'lBmVDGslmPpmWWNVGSpWV'), ('PZqgTbTZvFgZbZnFvP', 'lBsVqsGBlGVzGsqVls'), ('MMhSmHHfrfrSrjMNfcjrS', 'RBlBVzGVpVGgGVCGslGNd'), ('rMhQQmDSQMjM', 'tZvPTTnJvtQg'), ('TNGWlqVpmPssnNssW', 'LtRfCLbjCCwPgLjfg'), ('ZSHvHczFBBcHhJHFvhHcSF', 'grCgLbfgfbwrLTtbjwLwJr'), ('BMzSQzcQz', 'nlNQTQsnl'), ('FVWDZDZHpDdtZlqZqZql', 'jfNmsNFPjbbPbPRbFFjm'), ('MJSGMghngrccvSrSzM', 'rsQbbRmjmQmjtNtbfB'), ('CMnvczGChCCwcgt', 'pDDlLLLwVHdlHTZ'), ('fTTzbQzhDwwb', 'CnZnpbgnHncM'), ('mGtBRBFmsR', 'pVGMzpnnGL'), ('lFNqtdsssrRFBltSFRFlSr', 'vfDSWWvwfhhPJPjWfQzPvf'), ('GWWWQlpSZzrQnjQ', 'dRHVjdjTRvddddB'), ('ztthMtCmffcChJhChfCJ', 'dLddLBBgvqdvBBVBcgdq'), ('smbsmbmChCJmJffPmhNthDt', 'ZwnFQZQGpSrGWGQGZpQZzWP'), ('ZDzsjjFLFqsQzFsZqDz', 'BHGtBHpmgdNGmGBtLBG'), ('hbbMMTcWhbwnJPlwWrnPbb', 'VGVNndgpVVHmdNHVBmmmtf'), ('bCTPTclc', 'gRZQZCgs')]\n"
     ]
    }
   ],
   "source": [
    "def split_str(s):\n",
    "    t = list(s)\n",
    "    l = len(t)\n",
    "    return s[0:int(l/2)], s[int(l/2):]\n",
    "\n",
    "with open(\"day03.input\", \"r\") as f:\n",
    "    sacks = [split_str(s.strip()) for s in f.readlines()]\n",
    "    \n",
    "print(sacks)"
   ]
  },
  {
   "cell_type": "code",
   "execution_count": 7,
   "id": "da0b7e1a",
   "metadata": {},
   "outputs": [],
   "source": [
    "def find_cat(sack):\n",
    "    return set(sack[0]).intersection(set(sack[1]))"
   ]
  },
  {
   "cell_type": "code",
   "execution_count": 9,
   "id": "3fccf361",
   "metadata": {
    "scrolled": true
   },
   "outputs": [
    {
     "name": "stdout",
     "output_type": "stream",
     "text": [
      "[{'m'}, {'z'}, {'Q'}, {'d'}, {'G'}, {'p'}, {'Q'}, {'s'}, {'Z'}, {'t'}, {'F'}, {'Z'}, {'f'}, {'L'}, {'W'}, {'L'}, {'j'}, {'M'}, {'l'}, {'R'}, {'L'}, {'L'}, {'l'}, {'v'}, {'H'}, {'B'}, {'l'}, {'s'}, {'J'}, {'l'}, {'Z'}, {'z'}, {'H'}, {'v'}, {'T'}, {'s'}, {'V'}, {'v'}, {'c'}, {'P'}, {'V'}, {'f'}, {'j'}, {'s'}, {'D'}, {'f'}, {'s'}, {'H'}, {'j'}, {'T'}, {'p'}, {'N'}, {'T'}, {'J'}, {'p'}, {'D'}, {'b'}, {'Q'}, {'b'}, {'h'}, {'z'}, {'S'}, {'g'}, {'j'}, {'f'}, {'B'}, {'D'}, {'m'}, {'R'}, {'F'}, {'H'}, {'d'}, {'Z'}, {'m'}, {'z'}, {'p'}, {'d'}, {'c'}, {'Z'}, {'F'}, {'c'}, {'z'}, {'b'}, {'q'}, {'Z'}, {'P'}, {'m'}, {'v'}, {'m'}, {'t'}, {'S'}, {'P'}, {'c'}, {'P'}, {'S'}, {'D'}, {'n'}, {'w'}, {'J'}, {'G'}, {'T'}, {'h'}, {'Z'}, {'s'}, {'R'}, {'w'}, {'L'}, {'b'}, {'t'}, {'D'}, {'F'}, {'Q'}, {'c'}, {'Z'}, {'w'}, {'j'}, {'N'}, {'Z'}, {'T'}, {'j'}, {'H'}, {'C'}, {'h'}, {'m'}, {'M'}, {'j'}, {'z'}, {'J'}, {'f'}, {'W'}, {'P'}, {'c'}, {'M'}, {'Q'}, {'v'}, {'r'}, {'T'}, {'t'}, {'l'}, {'R'}, {'F'}, {'L'}, {'D'}, {'W'}, {'v'}, {'c'}, {'z'}, {'B'}, {'v'}, {'R'}, {'m'}, {'h'}, {'N'}, {'t'}, {'q'}, {'L'}, {'d'}, {'L'}, {'F'}, {'c'}, {'S'}, {'h'}, {'r'}, {'p'}, {'v'}, {'V'}, {'v'}, {'z'}, {'V'}, {'l'}, {'H'}, {'p'}, {'Z'}, {'s'}, {'Z'}, {'N'}, {'p'}, {'v'}, {'h'}, {'g'}, {'n'}, {'L'}, {'M'}, {'g'}, {'m'}, {'G'}, {'j'}, {'b'}, {'C'}, {'g'}, {'v'}, {'f'}, {'J'}, {'g'}, {'v'}, {'c'}, {'q'}, {'L'}, {'f'}, {'h'}, {'t'}, {'t'}, {'f'}, {'B'}, {'d'}, {'H'}, {'b'}, {'F'}, {'B'}, {'Z'}, {'L'}, {'P'}, {'M'}, {'C'}, {'b'}, {'W'}, {'j'}, {'g'}, {'Z'}, {'p'}, {'N'}, {'n'}, {'Q'}, {'m'}, {'g'}, {'L'}, {'R'}, {'p'}, {'d'}, {'D'}, {'J'}, {'n'}, {'Z'}, {'c'}, {'R'}, {'V'}, {'C'}, {'B'}, {'W'}, {'w'}, {'v'}, {'f'}, {'h'}, {'Z'}, {'g'}, {'z'}, {'s'}, {'S'}, {'f'}, {'V'}, {'M'}, {'G'}, {'w'}, {'G'}, {'d'}, {'r'}, {'w'}, {'s'}, {'f'}, {'R'}, {'V'}, {'P'}, {'Z'}, {'F'}, {'h'}, {'J'}, {'Q'}, {'M'}, {'n'}, {'R'}, {'d'}, {'B'}, {'q'}, {'F'}, {'s'}, {'f'}, {'R'}, {'V'}, {'f'}, {'h'}, {'L'}, {'N'}, {'q'}, {'N'}, {'Q'}, {'P'}, {'J'}, {'Q'}, {'F'}, {'r'}, {'w'}, {'b'}, {'G'}, {'S'}, {'j'}, {'c'}, {'P'}, {'L'}, {'n'}, {'C'}]\n"
     ]
    }
   ],
   "source": [
    "cats = [find_cat(sack) for sack in sacks]\n",
    "print(cats)"
   ]
  },
  {
   "cell_type": "code",
   "execution_count": 20,
   "id": "896cfdc2",
   "metadata": {},
   "outputs": [
    {
     "name": "stdout",
     "output_type": "stream",
     "text": [
      "27\n",
      "52\n",
      "1\n",
      "26\n"
     ]
    }
   ],
   "source": [
    "def cat2score(cat):\n",
    "    t = ord(cat)\n",
    "    return t-96 if t >= 97 else t-64+26\n",
    "\n",
    "print(cat2score(\"A\"))\n",
    "print(cat2score(\"Z\"))\n",
    "print(cat2score(\"a\"))\n",
    "print(cat2score(\"z\"))"
   ]
  },
  {
   "cell_type": "code",
   "execution_count": 25,
   "id": "f018bbcb",
   "metadata": {},
   "outputs": [
    {
     "name": "stdout",
     "output_type": "stream",
     "text": [
      "7872\n"
     ]
    }
   ],
   "source": [
    "print(sum(cat2score(list(cat)[0]) for cat in cats))"
   ]
  },
  {
   "cell_type": "markdown",
   "id": "6f7b5b7f",
   "metadata": {},
   "source": [
    "# step 2"
   ]
  },
  {
   "cell_type": "code",
   "execution_count": 27,
   "id": "3ab162c4",
   "metadata": {},
   "outputs": [
    {
     "name": "stdout",
     "output_type": "stream",
     "text": [
      "[['tdltdtmhlRNCBcwmHr', 'WDzDPnvvGnsWLWpGJJHRzCCRZNBRrRwMNwHH', 'DsDsQnJDnWsJnJvrQDPJddgShFQhjljqhggbdbbt'], ['LqvbLLTdvlfdqTLtbvDSRHPhHmRSnndHnHRM', 'jswsGgzwsNgNWNwGJzVrgSHnhHHDmShmmGShnMDPRn', 'JMNWzVwMpjpLpTfTLLTf'], ['HnQBjMjPQmRMmJCmBPGSFTSVWcNNGQQGGGTV', 'dgstqdtsbwrzddvrvdwqzhrWSFllDSWGDWFGDNsDDWSTHT', 'gpqZwwzHZhwzMJBmfZnnJLCL'], ['PJHbTPCmLdTtLtRtBvzBrWffft', 'hnpTqhMncpFDppDqqNVFVvWzvNWNvfBfzs', 'GwZccTpgnDSDDZQdCZbbClbCmm'], ['bnZnRZZZRlpGBbfRJjBbMfhCHwfsHShschMsHCww', 'LqVtqVmtLQvVqqLTFFvLDMhDMpMhwMSLDhsDCH', 'mFQWtNggVQQgmdgpJGpnnZJjbWGBRZ'], ['GsdGrGqvLZqWvWWdrPLdfvsvSJDDcQQhcTbFbTcCJLSJShcJ', 'wmBlnjwjgHSSDQjfDDfF', 'wggpmwmwNnMlHRpttRHmlPfWzdGvvvzrZWVvMrPvvZ'], ['jvlvTvTvTvcqTdZrdnGlVfNgspslpfGGnM', 'BWQhQzQwmhwWHbWCSRMRgjpjVDDRgDgVffgV', 'zLHQSBWmLcjdPjLLLZ'], ['BjjLnRzBnRmTSTBhpBmCjnLqNPGGVNZgNgLGddZVNVdf', 'wDDJJQJlJtHrlwFFPNGGfZbbbglgfPSf', 'tFQssvcDJtJcFcvwHtBmnSCvRmzzhpSCWvmC'], ['GvPVvVHPgzPMcFvDHssdpCpsnpHnsj', 'gmhmSRZBJTTTmSBZhhrqSBLRCnsBjjnbjBdbdbbdnbjwwBsj', 'WlrgrRgJSgZSJJJTZRtvVzvGtfzcVFcMzlGM'], ['QSZwwsBZZwjsndFsMPHLzTLLLz', 'tpJfgHghmvqpNWrrTMrMMRzPrMPJ', 'ghgghmlvmgNWgmWwBQcbGGSclGHjjb'], ['lhlnWGGFWZhDfgFfWDfrhgrRwcccqcZQBQMwcqJMTMRMqJ', 'jVdpSLPVSjtNdjdPtptzLNPPzcBzwCQrCcTBTRqwwqMCJTcC', 'PNHdpPLHtHtjdLghnHWvrvnFlFnf'], ['qttvqPdCtLrqRgfpgpMgSfSWvM', 'TJccnTDjjDlDhSpfHdhpTpZf', 'wldwmJdwmsstCsLzBsBCGP'], ['ddpCGpGpnndnpWqdVVpDGfDGFzSsFSZzBJShJsVtTstssrsr', 'jbvPLwFjztJBtvJz', 'wjggcgPFLlLwPFNwHmNPQqDRQfCRGCGqnpcRqQnn'], ['PmmGhLLcgZbPQnqH', 'DlVsvvrvvvrsDJLRDvvCHbpBqpnbQnggbWZbggVW', 'vJRTSSRJClCCDwTJRfSfCsGzMLmGmzmjGcfmdFNNNtfh'], ['vcmmMvfctfjLjvvRbLdHSnQSgQFnghSgQQSSjT', 'WzVbszVNHnTsQFgZ', 'pVlGlzrbDNrDrPpJNNJpVdBDvLdqvvvqqdBqcfvLdq'], ['gfzgzPDVZQDDSqBdtFfdFdvqBB', 'MrwmTcJJsMwNmJdvFqdFGGtvvsGt', 'HMmTTwcJqcrTHrjjczhZQgzghgQHhnhhHh'], ['BffBVgjPwPPPJwBBVJfDDsgrdZdcZqlcSnSncRNzHzZljNqq', 'CmWFbCmFvMtLLQCTbbbLtRqdSZHcdnqqNqNTRlnqNH', 'MpthtSMvFbvWPVDrsDgpPggD'], ['VVRntNwmlvhGccPNfS', 'QZcgZppdrZQTzrBgCbrbdQrBvjLssPjSssMsfSLhTPPGvLTP', 'ZZcpJZHpgCgpppdrJRtVJFqVFVDRWJmtVq'], ['dpdhtpjHtnpFRHdjRnwspMQmqpqqmVqmTVJQMmff', 'gSCcBCBCcgwDBLSvcLQQVTMmfmMJDqfTrrVV', 'gSwPzLBbNCbFnHHjhthh'], ['dLNrRmqLqRgCNNrCJrSqqSQgjDWnGpGjDjspnlslGHnnjsQj', 'vVTzZFVttVBMFbFfffVVmVtHWpDspjHWWWbGjjjDsjWllW', 'hwFFwztTzvZmBzVfqhSSNPRPPCRPRJCr'], ['BjfcmzCCTtNBNjcTDWwzPzDMMQPDPMws', 'lGpJFHnlSlnZbGnQQSBLwSPPLMsDQh', 'JFHHpbnZbGbZgvTmqfNgqCcvjB'], ['ShhpqjhhVZmHhSJSSnLzdNRNTjLwNTNTzv', 'QffRWRrMGwLfgNcNgc', 'GQrQDPRBlGlsGrWtrtPDPbWpqhZqSqJJpHZSVhVhhmmBZF'], ['ZlVVDTtTrzFDrFfB', 'NNGbJNNNNmpWBNbNWmjMfdjmFfPdqFMrMj', 'NQvRNvSRHSQBgRGQJJQQHTtcVLlVcTwVTllnRsttZs'], ['fjsDhJsVDcVJVljFDqLqFlnnCFbzbCCCZCzCtCZrnCCM', 'HwQNrHWNPGPHMZCvMCbzzvHZ', 'dBWwWPPGrGwBlcjDlcjcjldL'], ['NCLMHJZqCHHHMFlNBZtTZRvtStZdcRbc', 'wDrnpbswVgsrsWmGpDpfpBQtRSTmdvBjTjtBScctRm', 'gwzgbGDgpgFJMzlzPJCC'], ['SpnfPVqFnGfPGggqfGbjZZrtWrlRlbHpZjRZ', 'mmJmdJBsBJsDwhJBQhTZtzdRltrrRlrtHjjl', 'NBscQhmsmmQLLwLmhhwmcSSGfnfSFCSMCPfHCMqG'], ['hvVnPwZwVzQrhrVhPPPrpQVDBgMMlSTLZsgdDTSTdsssLd', 'RvFCqCGfbFCRbRmSBMMsLBgdFDSgdL', 'cRGjRWbWjvtPvrQcnr'], ['LzLNzhpcRRcTmNDzRhTPDjMvMnVlMgjngSMrMzrQQr', 'tfbWfWcWddFcGFwfswFFFCrjjvlVbrQjSglSQMjgvlgl', 'FHWGCHCCGcwfswqHdHqwwmPqRJDpZZNRJPRPPTTJNR'], ['gLHLLhTjZVMwMRSZZS', 'GdqdtlPvnQPPnsRw', 'tNNGvdtbdmJmHRTRJrFr'], ['QjjdjGDvdjwpZsssvsPZFZll', 'mTWWMWzbPHmZwHHw', 'JwTbtBztMVLDSpjVtc'], ['SZSBWtBSwnTDFSDD', 'CsrJWmmPrPQmpzsPmssssvnTFhvTnPhnFDFfDFnwqF', 'CCCCzprgrJJCgmVcpJmWLQZddHlGbMbdZMbtZNNcHHBt'], ['fgqqrZLqZqFzFFWzZzgPPbnMNNNvQnpQnQbNbpcHNP', 'SdwdmwCClCCwldhRSmsvpbncjQbNNQMtjQnMvS', 'mDlwhMRlCwDCTVwVJRdGgfzLLzzGzGFWqGqfGD'], ['CnVvCqvnRqHVqnWcMFnLmLnMMm', 'ZrdzbzbrdwtQdSfdcmmFMBWFNFWLwNNp', 'QFrQtJDdSZdDVHlVCPssJRll'], ['qMpGGmVNHMGVjRJJGfRgQtjQ', 'flsTZCwDwWcZZPCrPZZWgLLjdJJQSJTQFSgQJJRt', 'ZcChshwZCDvlCZCsPHMHzqNzBmMfmBBMfh'], ['wCtZtzCnPldZSdZp', 'VMspbMHspbshbPBLFsdcsLBdLs', 'pRrQHpNbQbrqRqJfnwfwzR'], ['DPPcDlPwNdNRJsccpgvwBBvqGGQtqrCjwr', 'fMSVrMWmLZqHQgLggCHH', 'mZZWVTbTWWfnMWrbmznfZfsPNcdsdpRcNJplbJNcNRNl'], ['ztlNSLhplhBHwwBBMBtv', 'DnVVfcGbVnGRZGgvPMpHBpCmJMDP', 'GnZdZZnbdpVcQjQQFjjqrlNWlrsNrFNLLsWqSF'], ['bJQgDRfjDbJbRMTgSSPzPHCNhzQHHszz', 'wmnwFmDcwFGvpvwGnSWPNPWzPHhhcWSCNz', 'GpDtmvrdGvvBmZrLTjZRTqTjblbMfL'], ['gBhZmtHhhhwTJqwDFqGGqPWqDb', 'rRLRVTrjCrCVdFjMbvGPPGDPvW', 'LSsVdrRNRCCffCSllQNBTNgNlmhHBJ'], ['lCzCCDMDlzzlZtttWDnDCZPbVGLhSmSLGbSgGPgVZm', 'sBcNsqTQwRQRrBgbgSbPTLVSnLmV', 'wcqrjQsBBjdCzjdnCv'], ['ZgHVtMQVVgvQjjtzdzfdFHppfmzwpz', 'CsBrBLLJSrsRCvnGvfRdvF', 'DbBJTJDLrJDqqqrrhJsJqVWthWlZZlZjMPZltvtMjZ'], ['bsHlrwlnwwQJsqmJnqsPSLzTLpPGPSgPPPWmLT', 'fdvBtpMDfpCCfBcCcCBtDfFSgTMTGSTRPLgPWGzGgVgLVz', 'NDcjcDZjBCdvvjdvhlbJnprjnnbhwrqn'], ['zRpLMMqjgMggqLDqDRVGNGdhGtvGGnvGnrznGB', 'VScbcZPJZWZlZbbHSJQJGtrGvtmdBBGmdGBrdn', 'cbPsZcPCcWfCZPcPQslljpDqwfqVgRLMTRjwVqLM'], ['QtRWhjtsbttQtnbbQvsrRBfDNdMGBLZLVVNVGNLGWd', 'JwllwllJmCwzPFSJzwwTBZLDLdBBBPLZZBVTTL', 'ZwFSSmpwzScFSmggHQjbQvjvscQbrtnjbs'], ['WMLWnSHSMnHjPVMVMVVJGM', 'zQzRcmttdftrtrdZZRzDtPZppphsVbjGbQbJTTsCbsjppG', 'dmrDtqfzrmZtqDvdfmZmtdqzLNlgnwgWLNvwFWgWWPNFSFNN'], ['hvSrMwqljjBHvqhHsHshqnrZcCCpfCZZCCZZCcCfCZ', 'QDVTRFWlmDnpLnnPTPCZ', 'DVQVtmQRWRRGFVRWVvlwdShBvvSqvtjMdd'], ['pnMQbbnDQMNMDQsnTplNTDvqPGHZGcvqmCqvmqZqmlqP', 'dwJdBBwdJJwLJBLSRJczWmHPzqWzzHGmvPRHGG', 'LrdFgSSLBsDMFFcbQb'], ['NSnwvSPPVNnPTLVpRvVvRnqhhQQzHhLbzlqcqHzmHHqh', 'DFMMfBffgZJtFsJgwdDHGHHzzmqhhHQzDQGhcH', 'dMrZMMgFfFtZJZfBWMfVPNwPpNwPVSNVjjVWpN'], ['dNlLSvLSdNlhphlhlWfVFFbZHqjjHHvqFZQHCQ', 'BcrTcJfRMRmrcbqcQgcHVCVF', 'fBzTJJRmfPPmnppdNwhllwlz'], ['GqfSSmPSFwSCmFBwfQfQBfGnggLrhTrJBDDnrddsJDdLTL', 'cHHvVtptbzbrTQJTggnTQv', 'QRVbbQWbpZbVQVGfRmwfFwmjflPP'], ['zzBQJmzQPPlddpJWlzzfdpfjvLvgmvFggMFGDVvLGHVFvvtM', 'CCSTrCncrhcCcwhRnCqCttFDvMFvtWtVHvFhvLVv', 'wCTNCSRnbnpWzlBpJspN'], ['PTzTPlrrfrbzmftTTrrjPMsNNFZQgQHVgMtNVFMgFF', 'DpGBcpvdZhccdGJhqDBphZhdVRQVQQVsqFwMRwFgFNHMHwQQ', 'SGcLGpdGnBhDJppSDZlPTTmLrmbTLTmrZL'], ['PzmhTqSzdDGcDhzdJDPBmJnrdVppNVVtgttMVrNnMMnV', 'blbQbWLvlWffCjlGCWwsnLpnpMggnpspnsrg', 'fQRbCZRfFZvZRQHRvHjmGmTFPcBmDhBGTzmGqS'], ['JJVJfgJfVDdfDDcpTBgdwQMQZQRZQZwmlmWwQGcm', 'ttzzjjzSqPzqtqzFrPvzwNwMlMRNnnwnllSmmmQG', 'FCvvChhsRVhhJBdB'], ['rbQZdRzBFTBzZZcclntHnlfJlrNgngfS', 'PPqGjpPGqpmDmDwqPDVnlNpnJfnnnglJCHlNfC', 'MMhhjMwwPvZNZTvLTZdL'], ['ZZGgVgwfQNVNLfZsPqRsVTDspTpsqs', 'jdjdSbmMdMBSvMgBcWpsRpTWDHWTvRPs', 'httmBMhbBBjCdzShfGzJlnQLlgGGZwww'], ['gLSLMCbVSGRPdTwtjtVfdt', 'TpzJpFFqmzpscslBtddjlwjjDhhldhvP', 'WpsTmJpHssqnHMGLnGSgbH'], ['RRBCpJJplCchWJJHCHCvjdpMzFzrNvVgFrrMzz', 'btLLPGSQctnZnPwwSjgZjjjNNrvMvVrrjV', 'tmLPGmnbnsLLwqQPSwqGbwDfHlHWBWlCsffshDCBfWcJ'], ['GhDFZFGZzzbCdZbZVlfv', 'bPNWSbSJSWSJPBBLLqClCltlwlNmllwvCQfC', 'PgPLqgqpWcWJJcnqJccccGrjbHhDRGMDGTDbpRhbFF'], ['VJRffrVJvDzcRcFFbpSlQLHlvtlstbbt', 'NmNqPhPqPZhsQLQwSRpH', 'dWRnRdBmMBWgjCgVGjFcCDzf'], ['nhhQFDmVmDGhmFpgCgBpcpHqncCt', 'fLLZbljhjjscCggBCLCL', 'PhMRhNWddWNjfRdPRfWNfVmvQFVQzVMJJDJGrmQGrQ'], ['PNQtsHvZtsQgQLPsPtHZbfzRffRzMMqRqpzbfqng', 'jDwCmhrDlhBhBldrzJMmfFFbSfFnqpFb', 'jdljDrDrTBBnGVNcGcQLQLQPQL'], ['MjzrjZvWQRHtjQdS', 'JFJlDJbcbvtRQmQbQQdf', 'JqNDBVNpqCBqDBCBVDcNVBqNMWgGZTPZgCrPzzvghPwrwZgG'], ['gzggttLNDFztFCNWzrLttmFddSjsdJsgZVSsJjwjgbgZVG', 'pPPcqpnqHMpcRbhhMMpThvnwZSjZvdwZvwdZSBvGZSGVZZ', 'ThcPlHbbPHRnlRTHnMhpfltrNLWzCWWCztzffQLLDmDN'], ['SlNJRpCGTmdFFDcbqJZFFJ', 'wwnWPHgsLPlVVfssLcZcjjzrDqcFzcgchZ', 'WVvQHQPfLwSGSvCRlNSd'], ['wWnWcpWDcwHcRdJQTdmNsT', 'hprqBSvZNjFdFjsq', 'fSfpvhLBfltMCLzWzC'], ['fdPfPwPmdmLZfNWjWszQNjjN', 'MBRSBBRBChMRQWhlmVWNsmzm', 'FvRcSrcRrtvrRrvrrrmcwGwLnTHHqGtwZwHdGPHP'], ['tFPlJcDJdvLZvFlcvlHtQRthbgQjrhsgQgNr', 'qCnpGMnTTVwCCMnqwWfpChQHRbrgQjsQmmfrrHgHrH', 'GMnTSBnVTnBGbLlDDvFBLDbF'], ['rJhPGdLSWnnrdqLhPPWGjcZZffjcgNdgNgRcNfwf', 'mHsDTQlsQBvWspTHzpmCTpcZgwZjZfZNRFwRjRRNMHjZ', 'vCzDDQsDDvbllWTllCDCCTSLbqSPVqSnJLGSqrPLtVnP'], ['sSRdHHHSRhjShVHWVFJdQPNFpGCrQCCfflqlPvfN', 'gLztmctMwnBtTzMppBCCrGfQlQQqBN', 'bbbncfzLmmmnnZLgHZWjhsjVJjHRVSdR'], ['bRgwCHfgfCCttRbdRLHzzGDnDnLBhmBGzvmFZD', 'rssprQlqlTQGNPcJGVsTBDmWzBnPnhWBvZZDBvDm', 'MQQTJTNGNcqrNwMwwHRdRbdgbj'], ['sBnnsDLDBCsLTngnZLcdmppCdmpRJwJJQdMRMP', 'NlrTblbNNbwRPpjjbPdJ', 'GlztrhvfGqltqzWrcZgFZVSWWSTSncnL'], ['FLJqLFRjzFqzJddlLfNNCjPrGSHCPHNVNVSH', 'TWTpngssgcPgNGPc', 'pGMDZpnZBMDsTTTnTsQWWZTRlbvdfZlLflZzJfdqvdRbqf'], ['ClsJpCgsppMbFFFbHp', 'PvQRPqQPvRdwLNZLZqqwGPPPNTbjMcFcfHjHcMNfBNHrcDDM', 'GLRnzqzdRqwdZnLLPqqZdQGsVtsnlWCVVWsgtWSSVVhFWt'], ['LNLSJjQDLlzRGwTTzQfT', 'WbZqchqMZqZWbmdZbhTrvPmGvwfHRHGTHRwH', 'dcfChsWWZgbfWdhCbgDNFBBDjFNBjjVNpD'], ['HjCLsHJHCjnNVHdCnHtJdtQQgQDhFGFDLcwFDBFMMDBT', 'vWrSWSbSrRqmzlWlQgRQQTcRMgMTMFwT', 'bzrpWWzbqrpnZsJwZVpC'], ['FhlfrNdTrtFdtrrrfcZBMdpZcHHHZMcccv', 'PmbjVDjwQbbjjVpDDvpzBZSSMsvG', 'jmbVjPVWqVmgJgjmmPPQjmqlCMlftnftnNlTTLLfNfrJtN'], ['PwMWzqwWbFwznqNQQhffQjJfnhfJ', 'mmdpgmttDrpgpdmZdHmgNsQVZvJNMQvVJffsZVQf', 'pdcBrMgDgcgrrHPcFSFzzqzFFbPS'], ['QRJJtSfJtQtjQRnSnNssTNdgsgdwddRWcm', 'qHMDhPBqbqZVzbddTcVwSmNWNVcc', 'BFCZbqPbHBPMhCljvQSvGCCpnj'], ['HSzHNHlNHmBSHSBFrFFgBHVVqbQLTTcLtqDsDTBTDcDp', 'CWQZGCWfMZGqbTbtpLsbWp', 'GwjhPCRZPQPPCPwmzSNzzzmwzlzSgH'], ['GgTvJbpJGvPVHZZZLW', 'cwWdnwmWnfwZDBHHNzZBVf', 'nhjjmshdwmSjsnmwrrQrtbtbgTTgrWth'], ['lFBTtcnlcFlppVpttcFZVhTTDDLCHDSDCjDCMSLZDWdDDSjD', 'mrfsgMfRRwwPffJfbdDdgWGLGLSDjSSWdC', 'MmfNPwPzMzlhlFlplV'], ['pRVgVsRzdDVJJJRttZTnnLrGsrGssG', 'BjMvMBWmjWNWSWrLGZPTHLSLTrZr', 'LLMWQjfvmljLBRVJfbChfVgJRz'], ['RPDsdnVrVnVzScStjpFSjV', 'BTLBhMMBpSMsMjZz', 'hwbBgTsbBbGrGHvGrvDnPH'], ['nzwgtSFRqhDphDwB', 'CmWCrrmrVPGCDTbpvvvhsZDG', 'VdNrlWHpmQzSMgJFdRFz'], ['jrhZtczchvvFCTmCDlDMrMDT', 'bHbLnbbwLnWQpLQgQVpQCTDqdmwqmDqCdDCSlmdd', 'sgVgglblptsfFthtvR'], ['LctzWvrzTWsvWBfvBzdJQSdQhQQfpDJJmmDD', 'lMRwjlwlLnZwLHLggQDRGphdFDJQdSdJJQ', 'CjPZCVCjgPwgWqWLqzzcWsVq'], ['JNWHsPNsJNHBnfnnqfqswcctDTmPCRmmTRtgCdmD', 'rjGrLrbhGRZVGQhphbbmDgDZMDMwdwDcCMgcDM', 'zvbLvVpFvjzVhbQjGjHlnflJFlWRqBWWBJBS'], ['NfCMfGNdGqVDhWBvncLllhBgcmgL', 'bJbRbHHtRtJtZTpSRtsLDLzvcvBmgnnnJlsm', 'SbbbTRpbQHSbbwHZZTHqfCNMfqFWGNGVQMFGDC'], ['MdzwdMpVwVNMHQMJNcHM', 'mDtcPDqWnDqgnGJvLHTJHJ', 'mmjhhRBRBcdZrcdRCz'], ['lvldsNpNGCGgCvCGggDLMbMmrdwnjjZdLLwrjM', 'HWHtPHSHPBnrmZjBbwwC', 'tHqWRtfttNlDClvNqs'], ['BTRNQTQTTBFRTglDwzztDgCwLF', 'jZsMjqgdrrzzSbsDSwsw', 'jWZrMgMjGdvrWWvrWMfMfZTBHTHQBHBQNpQRfRHNpnRT'], ['GRgFCPhnBBhPwZPnwdbWMJMlcJTLLlTlRT', 'VQsvVvvVNzqsscTVSLbWTStTJW', 'spfDNpvsnPCfhBbh'], ['GhWSgWphprhQqqndQd', 'MvZRjjLcCzwcLnHfdTdgfFHQ', 'wCczcCgRMwRRNCtjMCtCvlBmVDGslmPpmWWNVGSpWV'], ['PZqgTbTZvFgZbZnFvPlBsVqsGBlGVzGsqVls', 'MMhSmHHfrfrSrjMNfcjrSRBlBVzGVpVGgGVCGslGNd', 'rMhQQmDSQMjMtZvPTTnJvtQg'], ['TNGWlqVpmPssnNssWLtRfCLbjCCwPgLjfg', 'ZSHvHczFBBcHhJHFvhHcSFgrCgLbfgfbwrLTtbjwLwJr', 'BMzSQzcQznlNQTQsnl'], ['FVWDZDZHpDdtZlqZqZqljfNmsNFPjbbPbPRbFFjm', 'MJSGMghngrccvSrSzMrsQbbRmjmQmjtNtbfB', 'CMnvczGChCCwcgtpDDlLLLwVHdlHTZ'], ['fTTzbQzhDwwbCnZnpbgnHncM', 'mGtBRBFmsRpVGMzpnnGL', 'lFNqtdsssrRFBltSFRFlSrvfDSWWvwfhhPJPjWfQzPvf'], ['GWWWQlpSZzrQnjQdRHVjdjTRvddddB', 'ztthMtCmffcChJhChfCJdLddLBBgvqdvBBVBcgdq', 'smbsmbmChCJmJffPmhNthDtZwnFQZQGpSrGWGQGZpQZzWP'], ['ZDzsjjFLFqsQzFsZqDzBHGtBHpmgdNGmGBtLBG', 'hbbMMTcWhbwnJPlwWrnPbbVGVNndgpVVHmdNHVBmmmtf', 'bCTPTclcgRZQZCgs']]\n"
     ]
    }
   ],
   "source": [
    "def chunks(lst, n):\n",
    "    \"\"\"Yield successive n-sized chunks from lst.\"\"\"\n",
    "    for i in range(0, len(lst), n):\n",
    "        yield lst[i:i + n]\n",
    "\n",
    "with open(\"day03.input\", \"r\") as f:\n",
    "    groups = list(chunks([s.strip() for s in f.readlines()], 3))\n",
    "    \n",
    "print(groups)"
   ]
  },
  {
   "cell_type": "code",
   "execution_count": 28,
   "id": "5ba1ea5b",
   "metadata": {},
   "outputs": [],
   "source": [
    "def find_cat_2(sack):\n",
    "    return set(sack[0]).intersection(set(sack[1]).intersection(set(sack[2])))"
   ]
  },
  {
   "cell_type": "code",
   "execution_count": 30,
   "id": "c3c11aa0",
   "metadata": {},
   "outputs": [
    {
     "name": "stdout",
     "output_type": "stream",
     "text": [
      "[{'r'}, {'M'}, {'H'}, {'T'}, {'p'}, {'f'}, {'j'}, {'S'}, {'g'}, {'H'}, {'r'}, {'d'}, {'F'}, {'L'}, {'b'}, {'q'}, {'S'}, {'c'}, {'w'}, {'m'}, {'B'}, {'R'}, {'B'}, {'r'}, {'b'}, {'H'}, {'v'}, {'c'}, {'R'}, {'w'}, {'W'}, {'M'}, {'F'}, {'f'}, {'p'}, {'r'}, {'p'}, {'D'}, {'T'}, {'n'}, {'v'}, {'p'}, {'V'}, {'Z'}, {'P'}, {'l'}, {'c'}, {'w'}, {'f'}, {'Q'}, {'W'}, {'Z'}, {'G'}, {'R'}, {'N'}, {'g'}, {'T'}, {'c'}, {'b'}, {'R'}, {'h'}, {'n'}, {'v'}, {'b'}, {'l'}, {'p'}, {'m'}, {'b'}, {'W'}, {'f'}, {'G'}, {'T'}, {'G'}, {'F'}, {'f'}, {'w'}, {'M'}, {'M'}, {'S'}, {'Q'}, {'W'}, {'M'}, {'L'}, {'s'}, {'p'}, {'l'}, {'L'}, {'R'}, {'D'}, {'c'}, {'C'}, {'g'}, {'b'}, {'g'}, {'g'}, {'T'}, {'t'}, {'z'}, {'z'}, {'g'}]\n",
      "2497\n"
     ]
    }
   ],
   "source": [
    "cats = [find_cat_2(sack) for sack in groups]\n",
    "print(cats)\n",
    "print(sum(cat2score(list(cat)[0]) for cat in cats))"
   ]
  }
 ],
 "metadata": {
  "kernelspec": {
   "display_name": "Python 3 (ipykernel)",
   "language": "python",
   "name": "python3"
  },
  "language_info": {
   "codemirror_mode": {
    "name": "ipython",
    "version": 3
   },
   "file_extension": ".py",
   "mimetype": "text/x-python",
   "name": "python",
   "nbconvert_exporter": "python",
   "pygments_lexer": "ipython3",
   "version": "3.10.6"
  }
 },
 "nbformat": 4,
 "nbformat_minor": 5
}
