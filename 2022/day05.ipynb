{
 "cells": [
  {
   "cell_type": "markdown",
   "id": "0efb4fe9",
   "metadata": {},
   "source": [
    "# step 1"
   ]
  },
  {
   "cell_type": "code",
   "execution_count": 32,
   "id": "b079aaf8",
   "metadata": {},
   "outputs": [],
   "source": [
    "import re"
   ]
  },
  {
   "cell_type": "code",
   "execution_count": 25,
   "id": "c3d021dd",
   "metadata": {},
   "outputs": [
    {
     "name": "stdout",
     "output_type": "stream",
     "text": [
      "['[V]     [B]                     [F]', '[N] [Q] [W]                 [R] [B]', '[F] [D] [S]     [B]         [L] [P]', '[S] [J] [C]     [F] [C]     [D] [G]', '[M] [M] [H] [L] [P] [N]     [P] [V]', '[P] [L] [D] [C] [T] [Q] [R] [S] [J]', '[H] [R] [Q] [S] [V] [R] [V] [Z] [S]', '[J] [S] [N] [R] [M] [T] [G] [C] [D]', '1   2   3   4   5   6   7   8   9', '', 'move 1 from 8 to 4', 'move 1 from 7 to 8', 'move 1 from 6 to 3', 'move 2 from 6 to 5', 'move 8 from 5 to 1', 'move 5 from 3 to 8', 'move 1 from 7 to 8', 'move 8 from 1 to 2', 'move 3 from 3 to 9', 'move 13 from 8 to 7', 'move 2 from 1 to 2', 'move 1 from 6 to 2', 'move 2 from 1 to 7', 'move 4 from 4 to 2', 'move 10 from 9 to 4', 'move 7 from 4 to 1', 'move 1 from 6 to 7', 'move 2 from 4 to 5', 'move 1 from 5 to 2', 'move 1 from 5 to 8', 'move 3 from 1 to 5', 'move 2 from 4 to 6', 'move 2 from 6 to 4', 'move 2 from 4 to 5', 'move 5 from 1 to 5', 'move 1 from 9 to 5', 'move 1 from 8 to 5', 'move 14 from 2 to 6', 'move 12 from 7 to 4', 'move 4 from 6 to 7', 'move 3 from 6 to 4', 'move 4 from 4 to 9', 'move 2 from 4 to 6', 'move 2 from 9 to 3', 'move 9 from 4 to 3', 'move 2 from 1 to 6', 'move 5 from 7 to 3', 'move 4 from 7 to 8', 'move 2 from 6 to 7', 'move 3 from 6 to 7', 'move 10 from 5 to 8', 'move 8 from 8 to 9', 'move 10 from 9 to 7', 'move 12 from 7 to 5', 'move 1 from 1 to 5', 'move 3 from 7 to 2', 'move 10 from 3 to 7', 'move 6 from 5 to 7', 'move 2 from 6 to 1', 'move 12 from 2 to 7', 'move 3 from 3 to 1', 'move 1 from 6 to 5', 'move 10 from 5 to 7', 'move 3 from 3 to 4', 'move 34 from 7 to 1', 'move 2 from 6 to 9', 'move 1 from 6 to 3', 'move 3 from 1 to 3', 'move 1 from 7 to 3', 'move 3 from 3 to 6', 'move 1 from 4 to 3', 'move 22 from 1 to 6', 'move 2 from 9 to 7', 'move 2 from 4 to 9', 'move 12 from 6 to 8', 'move 1 from 7 to 6', 'move 4 from 8 to 2', 'move 1 from 7 to 1', 'move 6 from 8 to 9', 'move 1 from 2 to 5', 'move 1 from 2 to 7', 'move 13 from 1 to 2', 'move 2 from 3 to 1', 'move 4 from 7 to 5', 'move 3 from 9 to 4', 'move 1 from 1 to 8', 'move 4 from 5 to 2', 'move 12 from 6 to 2', 'move 3 from 1 to 3', 'move 1 from 4 to 1', 'move 9 from 8 to 5', 'move 6 from 5 to 7', 'move 2 from 4 to 5', 'move 5 from 9 to 6', 'move 5 from 3 to 7', 'move 30 from 2 to 6', 'move 11 from 7 to 9', 'move 36 from 6 to 3', 'move 10 from 9 to 3', 'move 1 from 6 to 5', 'move 3 from 5 to 2', 'move 2 from 5 to 2', 'move 28 from 3 to 4', 'move 6 from 4 to 1', 'move 1 from 2 to 3', 'move 2 from 5 to 2', 'move 6 from 1 to 7', 'move 1 from 1 to 6', 'move 6 from 3 to 5', 'move 6 from 7 to 2', 'move 1 from 6 to 4', 'move 2 from 2 to 6', 'move 8 from 2 to 1', 'move 3 from 2 to 4', 'move 2 from 3 to 4', 'move 4 from 3 to 4', 'move 1 from 6 to 1', 'move 2 from 1 to 8', 'move 1 from 6 to 4', 'move 1 from 9 to 3', 'move 2 from 5 to 4', 'move 1 from 8 to 7', 'move 1 from 7 to 9', 'move 1 from 3 to 5', 'move 1 from 8 to 6', 'move 34 from 4 to 9', 'move 13 from 9 to 8', 'move 1 from 8 to 2', 'move 1 from 2 to 1', 'move 4 from 5 to 1', 'move 9 from 8 to 7', 'move 11 from 1 to 3', 'move 1 from 4 to 2', 'move 1 from 6 to 7', 'move 1 from 9 to 4', 'move 1 from 4 to 1', 'move 1 from 5 to 3', 'move 5 from 7 to 8', 'move 1 from 2 to 5', 'move 1 from 5 to 1', 'move 21 from 9 to 5', 'move 19 from 3 to 4', 'move 17 from 4 to 6', 'move 2 from 8 to 4', 'move 2 from 6 to 8', 'move 2 from 6 to 9', 'move 2 from 7 to 6', 'move 1 from 4 to 9', 'move 6 from 5 to 6', 'move 1 from 9 to 8', 'move 8 from 5 to 7', 'move 15 from 6 to 2', 'move 1 from 9 to 7', 'move 2 from 1 to 6', 'move 3 from 4 to 7', 'move 1 from 1 to 6', 'move 3 from 5 to 4', 'move 2 from 5 to 6', 'move 2 from 4 to 1', 'move 13 from 7 to 8', 'move 2 from 6 to 4', 'move 3 from 2 to 4', 'move 2 from 7 to 6', 'move 5 from 4 to 6', 'move 4 from 2 to 6', 'move 1 from 1 to 9', 'move 18 from 8 to 3', 'move 1 from 4 to 5', 'move 1 from 2 to 7', 'move 15 from 3 to 1', 'move 1 from 5 to 1', 'move 3 from 3 to 4', 'move 1 from 5 to 4', 'move 1 from 5 to 6', 'move 1 from 6 to 8', 'move 2 from 8 to 2', 'move 3 from 1 to 8', 'move 6 from 2 to 8', 'move 1 from 7 to 6', 'move 12 from 8 to 5', 'move 2 from 9 to 6', 'move 6 from 1 to 5', 'move 9 from 5 to 3', 'move 1 from 2 to 8', 'move 20 from 6 to 9', 'move 3 from 6 to 7', 'move 1 from 7 to 1', 'move 7 from 3 to 4', 'move 2 from 7 to 2', 'move 1 from 8 to 7', 'move 8 from 4 to 1', 'move 11 from 1 to 7', 'move 10 from 7 to 6', 'move 2 from 4 to 9', 'move 21 from 9 to 3', 'move 6 from 5 to 9', 'move 6 from 3 to 2', 'move 1 from 4 to 5', 'move 1 from 7 to 9', 'move 8 from 3 to 2', 'move 9 from 2 to 1', 'move 14 from 1 to 6', 'move 1 from 1 to 7', 'move 4 from 3 to 8', 'move 3 from 8 to 7', 'move 5 from 7 to 4', 'move 3 from 6 to 9', 'move 2 from 3 to 7', 'move 3 from 5 to 6', 'move 1 from 5 to 6', 'move 2 from 7 to 9', 'move 1 from 8 to 3', 'move 22 from 6 to 5', 'move 3 from 9 to 4', 'move 3 from 6 to 1', 'move 5 from 4 to 6', 'move 9 from 2 to 8', 'move 4 from 6 to 1', 'move 1 from 3 to 2', 'move 1 from 2 to 3', 'move 6 from 8 to 1', 'move 2 from 4 to 3', 'move 10 from 1 to 7', 'move 2 from 8 to 7', 'move 1 from 9 to 6', 'move 4 from 3 to 5', 'move 1 from 8 to 3', 'move 4 from 9 to 8', 'move 1 from 4 to 3', 'move 1 from 3 to 8', 'move 3 from 7 to 6', 'move 1 from 1 to 5', 'move 10 from 5 to 9', 'move 5 from 6 to 4', 'move 5 from 8 to 5', 'move 4 from 9 to 8', 'move 3 from 3 to 9', 'move 2 from 8 to 6', 'move 5 from 7 to 5', 'move 1 from 4 to 1', 'move 1 from 1 to 2', 'move 2 from 8 to 6', 'move 1 from 2 to 1', 'move 1 from 7 to 2', 'move 1 from 1 to 5', 'move 28 from 5 to 9', 'move 3 from 6 to 1', 'move 1 from 6 to 9', 'move 1 from 2 to 9', 'move 2 from 1 to 2', 'move 2 from 7 to 5', 'move 1 from 7 to 5', 'move 1 from 2 to 5', 'move 3 from 1 to 9', 'move 1 from 5 to 8', 'move 15 from 9 to 2', 'move 11 from 9 to 4', 'move 11 from 4 to 7', 'move 2 from 4 to 1', 'move 7 from 7 to 8', 'move 1 from 1 to 4', 'move 20 from 9 to 1', 'move 2 from 7 to 8', 'move 1 from 4 to 6', 'move 1 from 6 to 2', 'move 2 from 7 to 5', 'move 1 from 9 to 6', 'move 1 from 4 to 9', 'move 4 from 5 to 2', 'move 1 from 6 to 8', 'move 1 from 4 to 9', 'move 11 from 8 to 3', 'move 1 from 1 to 9', 'move 1 from 5 to 9', 'move 1 from 2 to 6', 'move 4 from 9 to 8', 'move 4 from 8 to 7', 'move 10 from 1 to 6', 'move 7 from 1 to 5', 'move 8 from 3 to 4', 'move 2 from 3 to 5', 'move 3 from 7 to 4', 'move 1 from 4 to 5', 'move 2 from 1 to 6', 'move 9 from 2 to 6', 'move 1 from 7 to 9', 'move 1 from 3 to 2', 'move 7 from 4 to 3', 'move 3 from 3 to 7', 'move 5 from 2 to 3', 'move 1 from 1 to 9', 'move 2 from 2 to 7', 'move 1 from 4 to 6', 'move 3 from 5 to 6', 'move 4 from 7 to 6', 'move 1 from 7 to 4', 'move 1 from 4 to 7', 'move 1 from 2 to 8', 'move 1 from 7 to 1', 'move 27 from 6 to 2', 'move 1 from 4 to 1', 'move 7 from 5 to 7', 'move 1 from 4 to 1', 'move 1 from 8 to 3', 'move 3 from 7 to 3', 'move 2 from 1 to 6', 'move 2 from 9 to 1', 'move 18 from 2 to 1', 'move 2 from 7 to 5', 'move 12 from 3 to 4', 'move 1 from 5 to 6', 'move 3 from 6 to 1', 'move 24 from 1 to 8', 'move 9 from 2 to 4', 'move 3 from 2 to 1', 'move 2 from 6 to 3', 'move 1 from 6 to 9', 'move 1 from 5 to 6', 'move 1 from 6 to 2', 'move 1 from 1 to 7', 'move 1 from 2 to 1', 'move 1 from 1 to 2', 'move 3 from 7 to 2', 'move 2 from 1 to 4', 'move 8 from 4 to 5', 'move 22 from 8 to 1', 'move 1 from 8 to 1', 'move 13 from 4 to 1', 'move 1 from 8 to 5', 'move 3 from 3 to 1', 'move 1 from 2 to 7', 'move 38 from 1 to 6', 'move 27 from 6 to 1', 'move 2 from 2 to 9', 'move 3 from 9 to 8', 'move 2 from 8 to 6', 'move 1 from 8 to 3', 'move 1 from 2 to 1', 'move 1 from 3 to 6', 'move 1 from 2 to 3', 'move 1 from 7 to 6', 'move 7 from 6 to 3', 'move 20 from 1 to 4', 'move 6 from 1 to 6', 'move 17 from 4 to 7', 'move 3 from 6 to 5', 'move 14 from 7 to 9', 'move 8 from 5 to 7', 'move 3 from 1 to 6', 'move 3 from 3 to 1', 'move 2 from 4 to 1', 'move 4 from 5 to 1', 'move 9 from 6 to 2', 'move 3 from 6 to 4', 'move 4 from 7 to 8', 'move 4 from 1 to 6', 'move 2 from 3 to 1', 'move 6 from 6 to 7', 'move 4 from 8 to 7', 'move 4 from 2 to 1', 'move 4 from 2 to 3', 'move 4 from 9 to 5', 'move 8 from 9 to 5', 'move 1 from 9 to 5', 'move 1 from 2 to 1', 'move 16 from 7 to 2', 'move 10 from 2 to 9', 'move 11 from 9 to 8', 'move 4 from 3 to 5', 'move 3 from 1 to 4', 'move 13 from 5 to 7', 'move 10 from 8 to 5', 'move 2 from 1 to 5', 'move 11 from 7 to 4', 'move 2 from 3 to 6', 'move 3 from 7 to 6', 'move 1 from 3 to 2', 'move 1 from 1 to 8', 'move 2 from 8 to 4', 'move 3 from 1 to 2', 'move 4 from 6 to 1', 'move 7 from 1 to 9', 'move 1 from 6 to 7', 'move 2 from 5 to 8', 'move 1 from 2 to 9', 'move 1 from 7 to 8', 'move 5 from 5 to 8', 'move 1 from 2 to 3', 'move 4 from 2 to 5', 'move 17 from 4 to 1', 'move 10 from 5 to 9', 'move 2 from 4 to 2', 'move 2 from 4 to 1', 'move 1 from 4 to 9', 'move 1 from 3 to 7', 'move 1 from 7 to 8', 'move 12 from 9 to 2', 'move 1 from 2 to 4', 'move 1 from 4 to 1', 'move 1 from 1 to 9', 'move 1 from 8 to 1', 'move 8 from 8 to 3', 'move 2 from 5 to 1', 'move 3 from 1 to 9', 'move 1 from 2 to 6', 'move 4 from 3 to 7', 'move 1 from 7 to 6', 'move 10 from 9 to 2', 'move 1 from 5 to 9', 'move 1 from 9 to 3', 'move 17 from 1 to 6', 'move 2 from 1 to 2', 'move 11 from 6 to 7', 'move 2 from 2 to 9', 'move 2 from 9 to 5', 'move 12 from 7 to 9', 'move 20 from 2 to 7', 'move 5 from 9 to 5', 'move 21 from 7 to 1', 'move 2 from 6 to 4', 'move 11 from 1 to 4', 'move 5 from 4 to 6', 'move 1 from 7 to 8', 'move 5 from 9 to 3', 'move 5 from 2 to 8', 'move 3 from 9 to 3', 'move 2 from 8 to 7', 'move 2 from 1 to 7', 'move 10 from 6 to 3', 'move 1 from 2 to 6', 'move 2 from 8 to 5', 'move 1 from 6 to 5', 'move 2 from 4 to 9', 'move 1 from 4 to 5', 'move 8 from 1 to 6', 'move 4 from 4 to 8', 'move 6 from 8 to 4', 'move 21 from 3 to 9', 'move 5 from 9 to 2', 'move 4 from 7 to 9', 'move 22 from 9 to 3', 'move 9 from 6 to 4', 'move 2 from 2 to 6', 'move 2 from 2 to 1', 'move 2 from 5 to 7', 'move 7 from 5 to 4', 'move 22 from 4 to 2', 'move 2 from 5 to 4', 'move 16 from 2 to 5', 'move 2 from 6 to 2', 'move 13 from 3 to 4', 'move 5 from 5 to 7', 'move 15 from 4 to 7', 'move 3 from 2 to 3', 'move 3 from 2 to 5', 'move 1 from 1 to 2', 'move 1 from 2 to 4', 'move 6 from 5 to 9', 'move 4 from 3 to 6', 'move 2 from 5 to 9', 'move 1 from 2 to 7', 'move 1 from 1 to 9', 'move 2 from 4 to 5', 'move 19 from 7 to 8', 'move 1 from 6 to 5', 'move 1 from 5 to 1', 'move 1 from 9 to 4', 'move 5 from 8 to 1', 'move 3 from 8 to 1', 'move 7 from 5 to 6', 'move 3 from 7 to 1', 'move 1 from 2 to 5', 'move 4 from 9 to 8', 'move 2 from 5 to 6', 'move 10 from 1 to 4', 'move 1 from 7 to 2', 'move 6 from 3 to 4', 'move 9 from 4 to 3', 'move 2 from 2 to 8', 'move 2 from 9 to 5', 'move 5 from 8 to 3', 'move 1 from 1 to 5', 'move 2 from 5 to 6', 'move 1 from 1 to 7', 'move 2 from 9 to 7', 'move 8 from 4 to 7', 'move 3 from 3 to 9', 'move 4 from 6 to 3', 'move 1 from 5 to 3', 'move 1 from 7 to 2', 'move 1 from 2 to 1', 'move 1 from 6 to 5', 'move 1 from 5 to 2', 'move 10 from 7 to 4', 'move 10 from 4 to 1', 'move 10 from 1 to 8', 'move 1 from 9 to 6', 'move 1 from 1 to 4', 'move 11 from 8 to 1', 'move 2 from 9 to 5', 'move 5 from 6 to 3', 'move 1 from 3 to 8', 'move 4 from 1 to 3', 'move 5 from 3 to 8', 'move 1 from 4 to 7', 'move 1 from 7 to 2', 'move 13 from 3 to 5', 'move 2 from 2 to 1', 'move 4 from 3 to 1', 'move 4 from 5 to 6', 'move 3 from 6 to 2', 'move 4 from 5 to 4', 'move 8 from 8 to 7', 'move 1 from 3 to 9']\n"
     ]
    },
    {
     "data": {
      "text/plain": [
       "['V', 'N', 'F', 'S', 'M', 'P', 'H', 'J']"
      ]
     },
     "execution_count": 25,
     "metadata": {},
     "output_type": "execute_result"
    }
   ],
   "source": [
    "with open(\"day05.input\", \"r\") as f:\n",
    "    lines = [s.strip() for s in f.readlines()]\n",
    "print(lines)\n",
    "[line[1] for line in lines[:8]]"
   ]
  },
  {
   "cell_type": "code",
   "execution_count": 51,
   "id": "2e3b0c27",
   "metadata": {},
   "outputs": [],
   "source": [
    "# initial stack\n",
    "\n",
    "def init_stack():\n",
    "    n_stacks = 9\n",
    "\n",
    "    stacks = [[] for i in range(n_stacks)]\n",
    "    # print(stacks)\n",
    "    for line in reversed(lines[0:8]):\n",
    "        # print(line)\n",
    "        cs = [line[i] for i in range(1, 1+4*9, 4)]\n",
    "        # print(cs)\n",
    "        for col, c in enumerate(cs):\n",
    "            if c != \" \":\n",
    "                stacks[col].append(c)\n",
    "            \n",
    "    return stacks\n"
   ]
  },
  {
   "cell_type": "code",
   "execution_count": 36,
   "id": "041d46b4",
   "metadata": {},
   "outputs": [
    {
     "name": "stdout",
     "output_type": "stream",
     "text": [
      "(5, 0, 4)\n"
     ]
    }
   ],
   "source": [
    "# parse moves\n",
    "pat = re.compile(\"move (\\d+) from (\\d+) to (\\d+)\")\n",
    "\n",
    "def parse_move(s):\n",
    "    t1, t2, t3 = pat.findall(s)[0]\n",
    "    return int(t1), int(t2)-1, int(t3)-1\n",
    "\n",
    "print(parse_move(\"move 5 from 1 to 5\"))"
   ]
  },
  {
   "cell_type": "code",
   "execution_count": 48,
   "id": "b43cb8b7",
   "metadata": {
    "scrolled": true
   },
   "outputs": [
    {
     "name": "stdout",
     "output_type": "stream",
     "text": [
      "[['Q', 'P', 'H', 'C', 'V', 'C', 'S', 'D', 'L', 'P', 'D', 'J', 'S'], ['T', 'G', 'B'], ['M', 'P', 'R', 'D', 'P'], ['M', 'Z', 'J', 'Q'], ['G', 'T', 'R', 'L', 'N', 'N', 'R'], ['N', 'V', 'V', 'F', 'F', 'S'], ['S', 'H', 'S', 'B', 'C', 'W', 'R', 'C'], ['L', 'B', 'S', 'M', 'R', 'J', 'V', 'Q', 'D'], ['F']]\n"
     ]
    }
   ],
   "source": [
    "# step 1\n",
    "stacsk = init_stack()\n",
    "\n",
    "for s_move in lines[10:]:\n",
    "    # print(s_move)\n",
    "    n_box, s_from, s_to = parse_move(s_move)\n",
    "    for i in range(n_box):\n",
    "        stacks[s_to].append(stacks[s_from].pop())\n",
    "\n",
    "print(stacks)"
   ]
  },
  {
   "cell_type": "code",
   "execution_count": 49,
   "id": "5204e095",
   "metadata": {},
   "outputs": [
    {
     "name": "stdout",
     "output_type": "stream",
     "text": [
      "SBPQRSCDF\n"
     ]
    }
   ],
   "source": [
    "tops = [s[-1] for s in stacks]\n",
    "print(\"\".join(tops))"
   ]
  },
  {
   "cell_type": "code",
   "execution_count": 53,
   "id": "a96bcb6f",
   "metadata": {},
   "outputs": [
    {
     "name": "stdout",
     "output_type": "stream",
     "text": [
      "[['F', 'R', 'M', 'D', 'T', 'S', 'Z', 'D', 'V', 'C', 'P', 'J', 'R'], ['M', 'B', 'G'], ['B', 'N', 'D', 'V', 'L'], ['F', 'N', 'C', 'V'], ['L', 'D', 'M', 'S', 'G', 'Q', 'R'], ['C', 'R', 'T', 'H', 'H', 'C'], ['W', 'S', 'L', 'S', 'J', 'V', 'P', 'Q'], ['S', 'P', 'R', 'P', 'J', 'Q', 'N', 'F', 'S'], ['B']]\n"
     ]
    }
   ],
   "source": [
    "# step 2\n",
    "stacks = init_stack()\n",
    "\n",
    "for s_move in lines[10:]:\n",
    "    # print(s_move)\n",
    "    n_box, s_from, s_to = parse_move(s_move)\n",
    "    t = []\n",
    "    for i in range(n_box):\n",
    "        t.append(stacks[s_from].pop())\n",
    "    stacks[s_to].extend(reversed(t))\n",
    "\n",
    "print(stacks)"
   ]
  }
 ],
 "metadata": {
  "kernelspec": {
   "display_name": "Python 3 (ipykernel)",
   "language": "python",
   "name": "python3"
  },
  "language_info": {
   "codemirror_mode": {
    "name": "ipython",
    "version": 3
   },
   "file_extension": ".py",
   "mimetype": "text/x-python",
   "name": "python",
   "nbconvert_exporter": "python",
   "pygments_lexer": "ipython3",
   "version": "3.10.6"
  }
 },
 "nbformat": 4,
 "nbformat_minor": 5
}
