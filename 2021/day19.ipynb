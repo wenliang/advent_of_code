{
 "cells": [
  {
   "cell_type": "code",
   "execution_count": 1,
   "id": "friendly-philadelphia",
   "metadata": {},
   "outputs": [],
   "source": [
    "import re\n",
    "from collections import Counter\n",
    "from pprint import pprint"
   ]
  },
  {
   "cell_type": "markdown",
   "id": "rising-thong",
   "metadata": {},
   "source": [
    "# load input from \"day19_input.txt\""
   ]
  },
  {
   "cell_type": "code",
   "execution_count": 2,
   "id": "above-sender",
   "metadata": {},
   "outputs": [],
   "source": [
    "def parse_input(fn_input):\n",
    "    scans = {}\n",
    "    \n",
    "    pattern = re.compile(\"--- scanner (\\d+) ---\")\n",
    "    \n",
    "    with open(fn_input, \"r\") as f:\n",
    "        for line in f.readlines():\n",
    "            if line.startswith(\"---\"):\n",
    "                # start a new scanner\n",
    "                i = int(pattern.findall(line)[0])\n",
    "                assert i not in scans\n",
    "                scans[i] = []\n",
    "            elif len(line.strip()) == 0:\n",
    "                continue\n",
    "            else:\n",
    "                pos = [int(a) for a in line.strip().split(\",\")]\n",
    "                scans[i].append(pos)\n",
    "    return scans\n",
    "            "
   ]
  },
  {
   "cell_type": "code",
   "execution_count": 3,
   "id": "irish-chicken",
   "metadata": {},
   "outputs": [],
   "source": [
    "def rotate_point_90(p, dim, n=1):\n",
    "    if n== 0:\n",
    "        return p\n",
    "    \n",
    "    if dim==0:\n",
    "        p2 = (p[0], -p[2], p[1])\n",
    "    elif dim==1:\n",
    "        p2 = (-p[2], p[1], p[0])\n",
    "    elif dim==2:\n",
    "        p2 = (-p[1], p[0], p[2])\n",
    "    else:\n",
    "        raise NotImplementedError\n",
    "    \n",
    "    if n==1:\n",
    "        return p2\n",
    "    else:\n",
    "        assert n>1\n",
    "        return rotate_point_90(p2, dim, n-1)\n",
    "\n",
    "def rotate_beacons(beacon_list, dim, n):\n",
    "    return [rotate_point_90(p, dim, n) for p in beacon_list]"
   ]
  },
  {
   "cell_type": "code",
   "execution_count": 4,
   "id": "continued-functionality",
   "metadata": {},
   "outputs": [
    {
     "name": "stdout",
     "output_type": "stream",
     "text": [
      "[1, 2, 3]\n",
      "(-3, 2, 1)\n",
      "(-1, 2, -3)\n",
      "(3, 2, -1)\n",
      "(1, 2, 3)\n"
     ]
    }
   ],
   "source": [
    "# test rotation\n",
    "a = [1, 2, 3]\n",
    "for n in range(5):\n",
    "    print(rotate_point_90(a, 1, n))\n",
    "# note: the last one must be same as first one"
   ]
  },
  {
   "cell_type": "code",
   "execution_count": 5,
   "id": "oriented-packet",
   "metadata": {},
   "outputs": [],
   "source": [
    "def rotate_all(bl):\n",
    "    rotated = []\n",
    "    for nx in range(4):\n",
    "        t1 = rotate_beacons(bl, 0, nx)\n",
    "        for ny in range(4):\n",
    "            t2 = rotate_beacons(t1, 1, ny)\n",
    "            for nz in range(4):\n",
    "                t3 = rotate_beacons(t2, 2, nz)\n",
    "                rotated.append((t3, (nx, ny, nz)))\n",
    "    return rotated"
   ]
  },
  {
   "cell_type": "code",
   "execution_count": 6,
   "id": "combined-update",
   "metadata": {},
   "outputs": [],
   "source": [
    "def match_x(bl1, bl2):\n",
    "    distances = [a[0]-b[0] for a in bl1 for b in bl2]\n",
    "    counts = Counter(distances)\n",
    "    possible = []\n",
    "    for distance, count in counts.most_common():\n",
    "        if count < 12:\n",
    "            break\n",
    "        pairs = [(i1, i2) for i1, a in enumerate(bl1) for i2, b in enumerate(bl2) if (a[0]-b[0]) == distance]\n",
    "        possible.append((pairs, distance))\n",
    "    # print(\"x found {}\".format(len(possible)))\n",
    "    return possible\n",
    "\n",
    "\n",
    "def filter_yz(possible, bl1, bl2):\n",
    "    checked = []\n",
    "    for pairs, offset_x in possible:\n",
    "        offsets = [offset_x]\n",
    "        for dim in [1, 2]:\n",
    "            distance = [bl1[i1][dim]-bl2[i2][dim] for (i1, i2) in pairs]\n",
    "            d, n = Counter(distance).most_common(1)[0]\n",
    "            if n < 12:\n",
    "                break # fail\n",
    "            offsets.append(d)\n",
    "        else:\n",
    "            # now success\n",
    "            checked.append((tuple(pairs), tuple(offsets)))\n",
    "    return checked\n",
    "\n",
    "\n",
    "def match_beacons(bl1, bl2):\n",
    "    return filter_yz(match_x(bl1, bl2), bl1, bl2)"
   ]
  },
  {
   "cell_type": "code",
   "execution_count": 7,
   "id": "exempt-jordan",
   "metadata": {},
   "outputs": [],
   "source": [
    "def get_chains(ks, n_key=31):\n",
    "    chains = {0:None}\n",
    "    for i in range(n_key):\n",
    "        for k1, k2 in ks:\n",
    "            # print(k1, k2)\n",
    "            if k2 not in chains:\n",
    "                if k1 == 0:\n",
    "                    chains[k2] = [k1, k2]\n",
    "                else:\n",
    "                    if k1 in chains:\n",
    "                        chains[k2] = chains[k1]+[k2]\n",
    "                    \n",
    "    return chains"
   ]
  },
  {
   "cell_type": "code",
   "execution_count": 8,
   "id": "hungry-intranet",
   "metadata": {
    "scrolled": false
   },
   "outputs": [],
   "source": [
    "def transfer_scanner(bl, rotates, offsets):\n",
    "    t1 = bl\n",
    "    for i_dim in range(3):\n",
    "        t1 = rotate_beacons(t1, i_dim, rotates[i_dim])\n",
    "    t1 = [(x+offsets[0], y+offsets[1], z+offsets[2]) for x,y,z in t1]\n",
    "    return t1\n",
    "\n",
    "def transfer_scanner_final(bl, convert_chain, between_scanners):\n",
    "    t = bl\n",
    "    for i_step in list(range(len(convert_chain)-1, 0, -1)):\n",
    "        s_from = convert_chain[i_step-1]\n",
    "        s_to = convert_chain[i_step]\n",
    "        rotates, offsets = between_scanners[(s_from, s_to)]\n",
    "        t = transfer_scanner(t, rotates, offsets)\n",
    "    return t"
   ]
  },
  {
   "cell_type": "code",
   "execution_count": 9,
   "id": "manual-casino",
   "metadata": {},
   "outputs": [],
   "source": [
    "def manhattan_distance(p1, p2):\n",
    "    return abs(p1[0]-p2[0]) + abs(p1[1]-p2[1]) + abs(p1[2]-p2[2])"
   ]
  },
  {
   "cell_type": "markdown",
   "id": "worth-writing",
   "metadata": {},
   "source": [
    "# program start"
   ]
  },
  {
   "cell_type": "code",
   "execution_count": 10,
   "id": "fifteen-documentation",
   "metadata": {
    "scrolled": true
   },
   "outputs": [
    {
     "name": "stdout",
     "output_type": "stream",
     "text": [
      "0: 26\n",
      "1: 25\n",
      "2: 26\n",
      "3: 26\n",
      "4: 26\n",
      "5: 25\n",
      "6: 27\n",
      "7: 27\n",
      "8: 26\n",
      "9: 26\n",
      "10: 26\n",
      "11: 26\n",
      "12: 26\n",
      "13: 26\n",
      "14: 25\n",
      "15: 26\n",
      "16: 26\n",
      "17: 27\n",
      "18: 26\n",
      "19: 26\n",
      "20: 26\n",
      "21: 26\n",
      "22: 27\n",
      "23: 25\n",
      "24: 25\n",
      "25: 26\n",
      "26: 27\n",
      "27: 26\n",
      "28: 27\n",
      "29: 26\n",
      "30: 26\n"
     ]
    }
   ],
   "source": [
    "scans = parse_input(\"day19_input.txt\")\n",
    "# print(scans)\n",
    "\n",
    "scanner_index = list(range(len(scans)))\n",
    "for k, v in scans.items():\n",
    "    print(\"{}: {}\".format(k, len(v)))\n",
    "    \n",
    "# NOTE: the beacons each scanner found are from 25 ~ 27"
   ]
  },
  {
   "cell_type": "code",
   "execution_count": 11,
   "id": "optional-climate",
   "metadata": {
    "scrolled": true
   },
   "outputs": [
    {
     "name": "stdout",
     "output_type": "stream",
     "text": [
      "{(0, 12): ((0, 1, 0), (1117, 115, 56)),\n",
      " (0, 13): ((1, 2, 1), (58, -22, 1216)),\n",
      " (0, 29): ((0, 3, 0), (-1298, -15, 88)),\n",
      " (1, 5): ((0, 0, 1), (-1261, 109, 120)),\n",
      " (1, 6): ((0, 1, 1), (-60, 1235, 24)),\n",
      " (2, 3): ((0, 3, 2), (-1084, 122, -167)),\n",
      " (2, 9): ((0, 0, 3), (149, 161, 1189)),\n",
      " (2, 30): ((1, 2, 2), (134, -1121, -142)),\n",
      " (3, 2): ((0, 3, 2), (-167, 122, -1084)),\n",
      " (3, 8): ((0, 0, 1), (-106, 1192, 45)),\n",
      " (3, 13): ((1, 0, 3), (-1358, -38, 66)),\n",
      " (3, 29): ((0, 1, 0), (-2, -31, 1194)),\n",
      " (4, 8): ((0, 2, 1), (1173, 78, -59)),\n",
      " (4, 13): ((1, 2, 3), (-79, 1308, -80)),\n",
      " (4, 23): ((0, 0, 1), (2, -1126, 15)),\n",
      " (5, 1): ((0, 0, 3), (-109, -1261, -120)),\n",
      " (5, 7): ((0, 1, 1), (-55, -54, 1183)),\n",
      " (5, 24): ((0, 3, 3), (-1187, 41, 18)),\n",
      " (5, 26): ((1, 2, 0), (1171, -29, -65)),\n",
      " (6, 1): ((1, 2, 1), (-24, -60, 1235)),\n",
      " (6, 8): ((1, 2, 2), (-1178, -7, -33)),\n",
      " (6, 16): ((0, 1, 0), (-31, -1310, -52)),\n",
      " (6, 23): ((1, 2, 0), (26, -81, -1204)),\n",
      " (6, 26): ((0, 1, 1), (31, 1172, -45)),\n",
      " (6, 28): ((0, 2, 3), (1243, 7, 78)),\n",
      " (7, 5): ((1, 2, 1), (-1183, -55, -54)),\n",
      " (7, 22): ((0, 1, 0), (14, -1233, -88)),\n",
      " (8, 3): ((0, 0, 3), (-1192, -106, -45)),\n",
      " (8, 4): ((0, 2, 1), (78, 1173, -59)),\n",
      " (8, 6): ((1, 0, 0), (1178, -33, 7)),\n",
      " (8, 11): ((0, 1, 0), (61, -104, 1257)),\n",
      " (8, 30): ((0, 3, 2), (51, -81, -1263)),\n",
      " (9, 2): ((0, 0, 1), (161, -149, -1189)),\n",
      " (9, 13): ((0, 0, 2), (1, -1299, 2)),\n",
      " (9, 19): ((0, 2, 1), (-9, 1047, -174)),\n",
      " (9, 21): ((0, 2, 0), (74, -69, 1184)),\n",
      " (10, 12): ((0, 2, 0), (-110, -1121, -131)),\n",
      " (11, 8): ((0, 3, 0), (-1257, 104, 61)),\n",
      " (11, 26): ((1, 0, 3), (-78, 116, -1148)),\n",
      " (11, 29): ((1, 2, 2), (-108, 0, 1284)),\n",
      " (12, 0): ((0, 3, 0), (-56, -115, 1117)),\n",
      " (12, 10): ((0, 2, 0), (-110, 1121, -131)),\n",
      " (12, 27): ((1, 2, 1), (56, -15, -1306)),\n",
      " (13, 0): ((0, 1, 1), (-22, 1216, -58)),\n",
      " (13, 3): ((0, 3, 1), (-38, -66, -1358)),\n",
      " (13, 4): ((0, 3, 3), (-1308, -80, -79)),\n",
      " (13, 9): ((0, 0, 2), (1, -1299, -2)),\n",
      " (14, 21): ((1, 2, 3), (106, 1159, -1)),\n",
      " (15, 17): ((0, 2, 0), (1222, -82, 70)),\n",
      " (15, 29): ((1, 0, 3), (1, 1213, -21)),\n",
      " (16, 6): ((0, 3, 0), (52, 1310, -31)),\n",
      " (16, 30): ((0, 0, 3), (100, 40, 1096)),\n",
      " (17, 15): ((0, 2, 0), (1222, 82, 70)),\n",
      " (18, 30): ((0, 2, 0), (7, -1094, -32)),\n",
      " (19, 9): ((0, 2, 1), (1047, -9, -174)),\n",
      " (20, 24): ((0, 2, 2), (-122, -1238, 107)),\n",
      " (20, 25): ((0, 3, 1), (-142, 79, 1324)),\n",
      " (21, 9): ((0, 2, 0), (74, 69, 1184)),\n",
      " (21, 14): ((0, 3, 3), (-1159, -1, 106)),\n",
      " (22, 7): ((0, 3, 0), (88, 1233, 14)),\n",
      " (22, 26): ((1, 0, 1), (63, 7, 1262)),\n",
      " (22, 28): ((1, 2, 0), (1228, 130, 50)),\n",
      " (23, 4): ((0, 0, 3), (1126, 2, -15)),\n",
      " (23, 6): ((1, 2, 0), (26, -1204, -81)),\n",
      " (24, 5): ((1, 2, 3), (18, 1187, 41)),\n",
      " (24, 20): ((0, 2, 2), (122, -1238, 107)),\n",
      " (25, 20): ((1, 0, 3), (1324, -142, -79)),\n",
      " (26, 5): ((1, 2, 0), (1171, -65, -29)),\n",
      " (26, 6): ((1, 2, 1), (45, 31, 1172)),\n",
      " (26, 11): ((0, 3, 1), (116, 1148, -78)),\n",
      " (26, 22): ((0, 1, 3), (-7, -1262, -63)),\n",
      " (27, 12): ((0, 1, 1), (-15, -1306, -56)),\n",
      " (28, 6): ((0, 2, 3), (-7, -1243, 78)),\n",
      " (28, 22): ((1, 2, 0), (1228, 50, 130)),\n",
      " (29, 0): ((0, 1, 0), (88, 15, 1298)),\n",
      " (29, 3): ((0, 3, 0), (-1194, 31, -2)),\n",
      " (29, 11): ((1, 0, 0), (108, 1284, 0)),\n",
      " (29, 15): ((0, 3, 1), (1213, 21, 1)),\n",
      " (30, 2): ((1, 0, 0), (-134, -142, 1121)),\n",
      " (30, 8): ((0, 3, 2), (-1263, -81, 51)),\n",
      " (30, 16): ((0, 0, 1), (40, -100, -1096)),\n",
      " (30, 18): ((0, 2, 0), (7, 1094, -32))}\n"
     ]
    }
   ],
   "source": [
    "between_scanners = {}\n",
    "for k1, v1 in scans.items():\n",
    "    for k2, v2 in scans.items():\n",
    "        if k1 == k2:\n",
    "            continue\n",
    "            \n",
    "        possible_all = []\n",
    "        for i_rota, (bl2, rotates) in enumerate(rotate_all(v2)):\n",
    "            # print(\"new rotate:\", k1, k2, i_rota, rotates, bl2)\n",
    "            possible = match_beacons(v1, bl2)\n",
    "            assert len(possible) <=1\n",
    "            if len(possible) == 0:\n",
    "                continue\n",
    "            # print(possible)\n",
    "            pairs, offsets = possible[0]\n",
    "            possible_all.append((rotates, offsets))\n",
    "                # print(\"matched: {} vs {}, rotation:{}\".format(k1, k2, rotates))\n",
    "        \n",
    "        if len(possible_all)> 0:\n",
    "            # some diff by rotations. just pick 1st one.\n",
    "            between_scanners[(k1, k2)] = possible_all[0]\n",
    "\n",
    "pprint(between_scanners)\n",
    "\n",
    "# NOTE: what is inside between scanner:\n",
    "# (0, 12): ((0, 1, 0), (1117, 115, 56))\n",
    "# it means convert scanner 12 to scanner 0 \n",
    "# (yes i made the wrong order, but too lazy to change it)\n",
    "# the rotation: (0, 1, 0) means 90degree on y-axis\n",
    "# the offset: (1117, 115, 56) means after rotation, \n",
    "# add this offset to get new position"
   ]
  },
  {
   "cell_type": "code",
   "execution_count": 12,
   "id": "applied-validity",
   "metadata": {},
   "outputs": [
    {
     "name": "stdout",
     "output_type": "stream",
     "text": [
      "{0: None,\n",
      " 1: [0, 29, 11, 26, 5, 1],\n",
      " 2: [0, 13, 3, 2],\n",
      " 3: [0, 13, 3],\n",
      " 4: [0, 13, 4],\n",
      " 5: [0, 29, 11, 26, 5],\n",
      " 6: [0, 13, 3, 8, 6],\n",
      " 7: [0, 29, 11, 26, 5, 7],\n",
      " 8: [0, 13, 3, 8],\n",
      " 9: [0, 13, 9],\n",
      " 10: [0, 12, 10],\n",
      " 11: [0, 29, 11],\n",
      " 12: [0, 12],\n",
      " 13: [0, 13],\n",
      " 14: [0, 13, 9, 21, 14],\n",
      " 15: [0, 29, 15],\n",
      " 16: [0, 13, 3, 8, 30, 16],\n",
      " 17: [0, 29, 15, 17],\n",
      " 18: [0, 13, 3, 8, 30, 18],\n",
      " 19: [0, 13, 9, 19],\n",
      " 20: [0, 29, 11, 26, 5, 24, 20],\n",
      " 21: [0, 13, 9, 21],\n",
      " 22: [0, 29, 11, 26, 22],\n",
      " 23: [0, 13, 4, 23],\n",
      " 24: [0, 29, 11, 26, 5, 24],\n",
      " 25: [0, 29, 11, 26, 5, 24, 20, 25],\n",
      " 26: [0, 29, 11, 26],\n",
      " 27: [0, 12, 27],\n",
      " 28: [0, 13, 3, 8, 6, 28],\n",
      " 29: [0, 29],\n",
      " 30: [0, 13, 3, 8, 30]}\n"
     ]
    }
   ],
   "source": [
    "chains = get_chains(between_scanners.keys())\n",
    "pprint(chains)\n",
    "assert len(chains) == len(scans)\n",
    "\n",
    "# this is how to convert one scanner back to scanner 0\n",
    "# again, they should be reversed."
   ]
  },
  {
   "cell_type": "code",
   "execution_count": 13,
   "id": "stunning-toronto",
   "metadata": {
    "scrolled": true
   },
   "outputs": [
    {
     "name": "stdout",
     "output_type": "stream",
     "text": [
      "1 []\n",
      "2 []\n",
      "3 []\n",
      "4 []\n",
      "5 []\n",
      "6 []\n",
      "7 []\n",
      "8 []\n",
      "9 []\n",
      "10 []\n",
      "11 []\n",
      "12 [(((1, 0), (2, 21), (4, 22), (5, 19), (7, 20), (9, 13), (14, 1), (15, 24), (16, 25), (17, 4), (23, 9), (25, 5)), (0, 0, 0))]\n",
      "13 [(((4, 16), (5, 4), (7, 18), (8, 19), (9, 20), (12, 21), (15, 2), (17, 13), (19, 3), (20, 25), (21, 1), (22, 15)), (0, 0, 0))]\n",
      "14 []\n",
      "15 []\n",
      "16 []\n",
      "17 []\n",
      "18 []\n",
      "19 []\n",
      "20 []\n",
      "21 []\n",
      "22 []\n",
      "23 []\n",
      "24 []\n",
      "25 []\n",
      "26 []\n",
      "27 []\n",
      "28 []\n",
      "29 [(((0, 4), (3, 2), (6, 8), (8, 18), (10, 22), (12, 13), (13, 16), (18, 6), (19, 15), (20, 25), (21, 9), (22, 17)), (0, 0, 0))]\n",
      "30 []\n"
     ]
    }
   ],
   "source": [
    "# debug. each transferred back then compare to scans[0]\n",
    "for i in range(1,31):\n",
    "    t = transfer_scanner_final(scans[i], chains[i], between_scanners)\n",
    "    print(i, match_beacons(scans[0], t))\n",
    "    \n",
    "# NOTE: only the 3 scanner near scanner 0 share common points. "
   ]
  },
  {
   "cell_type": "markdown",
   "id": "devoted-nutrition",
   "metadata": {},
   "source": [
    "# Q1"
   ]
  },
  {
   "cell_type": "code",
   "execution_count": 14,
   "id": "spread-cincinnati",
   "metadata": {},
   "outputs": [
    {
     "name": "stdout",
     "output_type": "stream",
     "text": [
      "372\n"
     ]
    }
   ],
   "source": [
    "beacons = set([tuple((b for b in a)) for a in scans[0]])\n",
    "# print(beacons)\n",
    "for i in range(1, 31):\n",
    "    t = transfer_scanner_final(scans[i], chains[i], between_scanners)\n",
    "    # print(i, t)\n",
    "    for t1 in t:\n",
    "        beacons.add(t1)\n",
    "    # print(i, len(beacons))\n",
    "\n",
    "print(len(beacons))"
   ]
  },
  {
   "cell_type": "markdown",
   "id": "functioning-curve",
   "metadata": {},
   "source": [
    "# Q2"
   ]
  },
  {
   "cell_type": "code",
   "execution_count": 15,
   "id": "comparative-madness",
   "metadata": {},
   "outputs": [
    {
     "name": "stdout",
     "output_type": "stream",
     "text": [
      "[(0, 0, 0),\n",
      " (-2462, 2362, 1290),\n",
      " (-1133, 138, 2366),\n",
      " (-1300, 16, 1282),\n",
      " (-21, 1286, 1296),\n",
      " (-2353, 2482, 29),\n",
      " (-1227, 2386, 1230),\n",
      " (-2408, 3665, 83),\n",
      " (-1194, 1208, 1237),\n",
      " (56, -23, 2515),\n",
      " (1248, 1236, -54),\n",
      " (-1298, 1269, -20),\n",
      " (1117, 115, 56),\n",
      " (58, -22, 1216),\n",
      " (1134, 1210, 2445),\n",
      " (-1297, 6, -1125),\n",
      " (-1175, 2355, 2540),\n",
      " (-2519, 76, -1207),\n",
      " (-2369, 1291, 2507),\n",
      " (-118, -32, 3562),\n",
      " (-4778, 2378, 95),\n",
      " (1240, 51, 2446),\n",
      " (-1175, 3679, -5),\n",
      " (-23, 2412, 1311),\n",
      " (-3540, 2500, -12),\n",
      " (-4857, 2520, -1229),\n",
      " (-1182, 2417, 58),\n",
      " (2423, 100, 112),\n",
      " (-1305, 3629, 1223),\n",
      " (-1298, -15, 88),\n",
      " (-1275, 1259, 2500)]\n"
     ]
    }
   ],
   "source": [
    "# find the positions of scanners related to scanner 0\n",
    "scanners = [(0, 0, 0)]\n",
    "for i in range(1, 31):\n",
    "    t = transfer_scanner_final([(0,0,0)], chains[i], between_scanners)\n",
    "    scanners.append(t[0])\n",
    "\n",
    "pprint(scanners)"
   ]
  },
  {
   "cell_type": "code",
   "execution_count": 16,
   "id": "enhanced-startup",
   "metadata": {},
   "outputs": [
    {
     "name": "stdout",
     "output_type": "stream",
     "text": [
      "12241\n"
     ]
    }
   ],
   "source": [
    "distances = [manhattan_distance(s1, s2) for s1 in scanners for s2 in scanners]\n",
    "# print(distances)\n",
    "print(max(distances))"
   ]
  }
 ],
 "metadata": {
  "kernelspec": {
   "display_name": "Python 3",
   "language": "python",
   "name": "python3"
  },
  "language_info": {
   "codemirror_mode": {
    "name": "ipython",
    "version": 3
   },
   "file_extension": ".py",
   "mimetype": "text/x-python",
   "name": "python",
   "nbconvert_exporter": "python",
   "pygments_lexer": "ipython3",
   "version": "3.9.5"
  }
 },
 "nbformat": 4,
 "nbformat_minor": 5
}
